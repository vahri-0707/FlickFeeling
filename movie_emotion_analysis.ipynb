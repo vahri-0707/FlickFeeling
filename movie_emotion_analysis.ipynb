{
  "nbformat": 4,
  "nbformat_minor": 0,
  "metadata": {
    "colab": {
      "provenance": []
    },
    "kernelspec": {
      "name": "python3",
      "display_name": "Python 3"
    },
    "language_info": {
      "name": "python"
    }
  },
  "cells": [
    {
      "cell_type": "markdown",
      "source": [
        "# **Hubungkan ke Drive**"
      ],
      "metadata": {
        "id": "lkTVrOK_Tu6b"
      }
    },
    {
      "cell_type": "code",
      "execution_count": null,
      "metadata": {
        "colab": {
          "base_uri": "https://localhost:8080/"
        },
        "id": "EV1rUCaETHUD",
        "outputId": "7bd6e3e5-4861-4725-b573-c709b5b17892"
      },
      "outputs": [
        {
          "output_type": "stream",
          "name": "stdout",
          "text": [
            "Mounted at /content/drive\n"
          ]
        }
      ],
      "source": [
        "from google.colab import drive\n",
        "drive.mount('/content/drive')"
      ]
    },
    {
      "cell_type": "markdown",
      "source": [
        "# **Scrapping Review Film Interstellar**"
      ],
      "metadata": {
        "id": "hvZdubWKT3C-"
      }
    },
    {
      "cell_type": "code",
      "source": [
        "!pip install beautifulsoup4\n",
        "!pip install pandas\n",
        "!pip install selenium\n",
        "!pip install --upgrade selenium\n"
      ],
      "metadata": {
        "id": "VJ_-8ZXDT75H"
      },
      "execution_count": null,
      "outputs": []
    },
    {
      "cell_type": "code",
      "source": [
        "from bs4 import BeautifulSoup\n",
        "import requests"
      ],
      "metadata": {
        "id": "3p8gHcksUUQh"
      },
      "execution_count": null,
      "outputs": []
    },
    {
      "cell_type": "code",
      "source": [
        "!pip install selenium\n",
        "!apt-get update\n",
        "!apt-get install chromium-browser\n",
        "!apt install chromium-chromedriver"
      ],
      "metadata": {
        "id": "NYIc_1Lgivzz"
      },
      "execution_count": null,
      "outputs": []
    },
    {
      "cell_type": "code",
      "source": [
        "from selenium import webdriver"
      ],
      "metadata": {
        "id": "GRcLMa21jSSw"
      },
      "execution_count": null,
      "outputs": []
    },
    {
      "cell_type": "code",
      "source": [
        "from bs4 import BeautifulSoup\n",
        "from selenium import webdriver\n",
        "from selenium.webdriver.common.by import By\n",
        "from selenium.webdriver.support.ui import WebDriverWait\n",
        "from selenium.webdriver.support import expected_conditions as EC\n",
        "from selenium.webdriver.common.action_chains import ActionChains\n",
        "from concurrent.futures import ThreadPoolExecutor\n",
        "import time\n",
        "\n",
        "def web_driver():\n",
        "    options = webdriver.ChromeOptions()\n",
        "    options.add_argument(\"--verbose\")\n",
        "    options.add_argument('--no-sandbox')\n",
        "    options.add_argument('--headless')\n",
        "    options.add_argument('--disable-gpu')\n",
        "    options.add_argument(\"--window-size=1920, 1200\")\n",
        "    options.add_argument('--disable-dev-shm-usage')\n",
        "    driver = webdriver.Chrome(options=options)\n",
        "    return driver\n",
        "\n",
        "def scrape_reviews(url):\n",
        "    driver = web_driver()\n",
        "    driver.get(url)\n",
        "\n",
        "    for _ in range(10):\n",
        "        try:\n",
        "            load_more_button = WebDriverWait(driver, 10).until(\n",
        "                EC.element_to_be_clickable((By.CSS_SELECTOR, \"div.ipl-load-more.ipl-load-more--loaded button.ipl-load-more__button\"))\n",
        "            )\n",
        "\n",
        "            ActionChains(driver).move_to_element(load_more_button).click().perform()\n",
        "\n",
        "            WebDriverWait(driver, 10).until(EC.presence_of_element_located((By.CLASS_NAME, \"review-container\")))\n",
        "\n",
        "        except Exception as e:\n",
        "            print(f\"No more content to load: {e}\")\n",
        "            break\n",
        "\n",
        "    soup = BeautifulSoup(driver.page_source, \"html.parser\")\n",
        "\n",
        "    html = soup.find_all('div', {\"class\": \"review-container\"})\n",
        "\n",
        "    usernames = []\n",
        "    titles = []\n",
        "    reviews = []\n",
        "    dates = []\n",
        "\n",
        "    for row in html:\n",
        "        username_elem = row.find(\"span\", {\"class\": \"display-name-link\"})\n",
        "        username = username_elem.text if username_elem else None\n",
        "        usernames.append(username)\n",
        "\n",
        "        title_elem = row.find(\"a\", {\"class\": \"title\"})\n",
        "        title = title_elem.text if title_elem else None\n",
        "        titles.append(title)\n",
        "\n",
        "        review_elem = row.find(\"div\", {\"class\": \"text show-more__control\"})\n",
        "        review = review_elem.text if review_elem else None\n",
        "        reviews.append(review)\n",
        "\n",
        "        date_elem = row.find(\"span\", {\"class\": \"review-date\"})\n",
        "        date = date_elem.text if date_elem else None\n",
        "        dates.append(date)\n",
        "\n",
        "    driver.quit()\n",
        "\n",
        "    return usernames, titles, reviews, dates"
      ],
      "metadata": {
        "id": "PusSD5DG6bZd"
      },
      "execution_count": null,
      "outputs": []
    },
    {
      "cell_type": "code",
      "source": [
        "url = \"https://www.imdb.com/title/tt0816692/reviews/?ref_=tt_ov_rt\"\n",
        "usernames, titles, reviews, dates = scrape_reviews(url)"
      ],
      "metadata": {
        "id": "X-TPA8wN8MAN"
      },
      "execution_count": null,
      "outputs": []
    },
    {
      "cell_type": "markdown",
      "source": [
        "# **Save Dataset to CSV**"
      ],
      "metadata": {
        "id": "EIEq4Ebp-fZh"
      }
    },
    {
      "cell_type": "code",
      "source": [
        "import pandas as pd\n",
        "\n",
        "df = pd.DataFrame({'Title' : titles, 'Username' : usernames, 'Tanggal' : dates, 'Review' : reviews})\n",
        "df.to_csv('/content/drive/MyDrive/Dataset/IMDB_Review_Interstellar.csv', index = False, encoding = 'utf-8')"
      ],
      "metadata": {
        "id": "KuzjBulC8N_H"
      },
      "execution_count": null,
      "outputs": []
    },
    {
      "cell_type": "markdown",
      "source": [
        "# **Open Dataset**"
      ],
      "metadata": {
        "id": "_nMnxbQS_Ui4"
      }
    },
    {
      "cell_type": "code",
      "source": [
        "import numpy as np\n",
        "import string\n",
        "import re"
      ],
      "metadata": {
        "id": "ikQehOM5_dq_"
      },
      "execution_count": null,
      "outputs": []
    },
    {
      "cell_type": "code",
      "source": [
        "data_review = pd.read_csv('/content/drive/MyDrive/Dataset/IMDB_Review_Interstellar.csv')\n",
        "print(data_review)"
      ],
      "metadata": {
        "id": "FNAJ2Tf__itL"
      },
      "execution_count": null,
      "outputs": []
    },
    {
      "cell_type": "markdown",
      "source": [
        "# **Case Folding & Cleaning Text**"
      ],
      "metadata": {
        "id": "yikB7WKEACuK"
      }
    },
    {
      "cell_type": "code",
      "source": [
        "review = data_review['Review']"
      ],
      "metadata": {
        "id": "gLfu0K57AHud"
      },
      "execution_count": null,
      "outputs": []
    },
    {
      "cell_type": "code",
      "source": [
        "def clean_text(text):\n",
        "    if isinstance(text, str):\n",
        "        # Hapus https dan http (link)\n",
        "        text = re.sub(r\"http\\S+|www\\S+|https\\S+\", \"\", text)\n",
        "        # Hapus tanda baca\n",
        "        text = text.translate(str.maketrans('', '', string.punctuation))\n",
        "        # Pertimbangkan huruf dan angka\n",
        "        text = re.sub('[^a-zA-Z]', ' ', text)\n",
        "        # Ganti line baru dengan spasi\n",
        "        text = re.sub(\"\\n\", \" \", text)\n",
        "        # Ubah ke huruf kecil\n",
        "        text = text.lower()\n",
        "        # Hapus single char\n",
        "        text = re.sub(r\"\\b[a-zA-Z]\\b\", \" \", text)\n",
        "\n",
        "        return text\n",
        "    else:\n",
        "        # If not a string, return None\n",
        "        return None"
      ],
      "metadata": {
        "id": "8jIuWwZfAWBp"
      },
      "execution_count": null,
      "outputs": []
    },
    {
      "cell_type": "code",
      "source": [
        "data_review['Cleaned Review'] = data_review['Review'].apply(clean_text)\n",
        "\n",
        "data_review = data_review[data_review['Cleaned Review'].notna()]"
      ],
      "metadata": {
        "id": "up2zWnW0Ad9M"
      },
      "execution_count": null,
      "outputs": []
    },
    {
      "cell_type": "code",
      "source": [
        "data_review.head(20)"
      ],
      "metadata": {
        "id": "Vw4UISQ3B7Ey"
      },
      "execution_count": null,
      "outputs": []
    },
    {
      "cell_type": "markdown",
      "source": [
        "# **Tokenizing**"
      ],
      "metadata": {
        "id": "W7fIO-yjCbLU"
      }
    },
    {
      "cell_type": "code",
      "source": [
        "from nltk.tokenize import RegexpTokenizer\n",
        "regexp = RegexpTokenizer(r'\\w+|$[0-9]+|\\S+')\n",
        "data_review['Tokenized'] = data_review['Cleaned Review'].apply(regexp.tokenize)"
      ],
      "metadata": {
        "id": "P5xO3VpRCdv_"
      },
      "execution_count": null,
      "outputs": []
    },
    {
      "cell_type": "code",
      "source": [
        "data_review.head(20)"
      ],
      "metadata": {
        "id": "VzApCrQPCr-7"
      },
      "execution_count": null,
      "outputs": []
    },
    {
      "cell_type": "markdown",
      "source": [
        "# **Normalisasi**"
      ],
      "metadata": {
        "id": "0P346U3KDOEf"
      }
    },
    {
      "cell_type": "code",
      "source": [
        "import nltk\n",
        "nltk.download('wordnet')\n",
        "from nltk.stem import WordNetLemmatizer\n",
        "\n",
        "lemmatizer = WordNetLemmatizer()"
      ],
      "metadata": {
        "colab": {
          "base_uri": "https://localhost:8080/"
        },
        "id": "8p4aYVKgDQJg",
        "outputId": "8c6ebe28-0de0-418a-d873-a94aaca40da0"
      },
      "execution_count": null,
      "outputs": [
        {
          "output_type": "stream",
          "name": "stderr",
          "text": [
            "[nltk_data] Downloading package wordnet to /root/nltk_data...\n",
            "[nltk_data]   Package wordnet is already up-to-date!\n"
          ]
        }
      ]
    },
    {
      "cell_type": "code",
      "source": [
        "data_review['Normalized'] = data_review['Tokenized'].apply(lambda tokens: [lemmatizer.lemmatize(token) for token in tokens])"
      ],
      "metadata": {
        "id": "W2SynfJ9DX8m"
      },
      "execution_count": null,
      "outputs": []
    },
    {
      "cell_type": "code",
      "source": [
        "data_review.head(20)"
      ],
      "metadata": {
        "id": "FxbBWb4VDkMZ"
      },
      "execution_count": null,
      "outputs": []
    },
    {
      "cell_type": "markdown",
      "source": [
        "# **Remove Stopwords**"
      ],
      "metadata": {
        "id": "IQd9v0IzGG0d"
      }
    },
    {
      "cell_type": "code",
      "source": [
        "from nltk.corpus import stopwords\n",
        "\n",
        "nltk.download('stopwords')\n",
        "\n",
        "stop_words = set(stopwords.words('english'))\n"
      ],
      "metadata": {
        "colab": {
          "base_uri": "https://localhost:8080/"
        },
        "id": "q0wUiL6kGLpB",
        "outputId": "082f8034-cacb-4ca9-beb6-ee1b90489075"
      },
      "execution_count": null,
      "outputs": [
        {
          "output_type": "stream",
          "name": "stderr",
          "text": [
            "[nltk_data] Downloading package stopwords to /root/nltk_data...\n",
            "[nltk_data]   Unzipping corpora/stopwords.zip.\n"
          ]
        }
      ]
    },
    {
      "cell_type": "code",
      "source": [
        "data_review['Filtered'] = data_review['Normalized'].apply(lambda tokens: [token for token in tokens if token not in stop_words])"
      ],
      "metadata": {
        "id": "IPnqhS3nGXR0"
      },
      "execution_count": null,
      "outputs": []
    },
    {
      "cell_type": "code",
      "source": [
        "data_review.head(20)"
      ],
      "metadata": {
        "id": "Al00xvKfGZUi"
      },
      "execution_count": null,
      "outputs": []
    },
    {
      "cell_type": "markdown",
      "source": [
        "# **Stemming**"
      ],
      "metadata": {
        "id": "Qag1WtxXGlIU"
      }
    },
    {
      "cell_type": "code",
      "source": [
        "from nltk.stem import PorterStemmer\n",
        "\n",
        "porter_stemmer = PorterStemmer()"
      ],
      "metadata": {
        "id": "kF32j0f9GpIs"
      },
      "execution_count": null,
      "outputs": []
    },
    {
      "cell_type": "code",
      "source": [
        "data_review['Stemmed'] = data_review['Filtered'].apply(lambda tokens: [porter_stemmer.stem(token) for token in tokens])"
      ],
      "metadata": {
        "id": "pNaWs_tcGuXW"
      },
      "execution_count": null,
      "outputs": []
    },
    {
      "cell_type": "code",
      "source": [
        "data_review.head(20)"
      ],
      "metadata": {
        "id": "kRGr8OHKHAAq"
      },
      "execution_count": null,
      "outputs": []
    },
    {
      "cell_type": "markdown",
      "source": [
        "# **Join All the Word**"
      ],
      "metadata": {
        "id": "0Iu9jM7cHVF6"
      }
    },
    {
      "cell_type": "code",
      "source": [
        "data_review['Final Review'] = data_review['Stemmed'].apply(lambda tokens: ' '.join(tokens))"
      ],
      "metadata": {
        "id": "4e9NUr4eHUqP"
      },
      "execution_count": null,
      "outputs": []
    },
    {
      "cell_type": "code",
      "source": [
        "data_review.head(20)"
      ],
      "metadata": {
        "id": "REZ3idMnHjSq"
      },
      "execution_count": null,
      "outputs": []
    },
    {
      "cell_type": "markdown",
      "source": [
        "# **Save the Cleaned Dataset Review**"
      ],
      "metadata": {
        "id": "umxnwCDxHvt0"
      }
    },
    {
      "cell_type": "code",
      "source": [
        "review = pd.DataFrame(data_review)\n",
        "review.to_csv('/content/drive/MyDrive/Dataset/IMDB_Review_Interstellar_Cleaned.csv', index = False, encoding = 'utf-8')"
      ],
      "metadata": {
        "id": "p3E1SNVCH1Dc"
      },
      "execution_count": null,
      "outputs": []
    },
    {
      "cell_type": "markdown",
      "source": [
        "# **Labeling Dataset Sentimen Menggunakan Model VADER**"
      ],
      "metadata": {
        "id": "ABfr1pLnm5Wo"
      }
    },
    {
      "cell_type": "code",
      "source": [
        "!pip install transformers\n",
        "!pip install googletrans==3.1.0a0"
      ],
      "metadata": {
        "id": "Rg6X6WQknHzm"
      },
      "execution_count": null,
      "outputs": []
    },
    {
      "cell_type": "code",
      "source": [
        "import pandas as pd\n",
        "import numpy as np"
      ],
      "metadata": {
        "id": "qAryc8JHnbvT"
      },
      "execution_count": null,
      "outputs": []
    },
    {
      "cell_type": "code",
      "source": [
        "data_sentiment = pd.read_csv('/content/drive/MyDrive/Dataset/IMDB_Review_Interstellar_Cleaned.csv')\n",
        "\n",
        "data_sentiment.head(20)"
      ],
      "metadata": {
        "colab": {
          "base_uri": "https://localhost:8080/",
          "height": 1000
        },
        "id": "OorZaVTPoQjf",
        "outputId": "100788d5-fa9c-45e0-df48-0c153c200e9d"
      },
      "execution_count": null,
      "outputs": [
        {
          "output_type": "execute_result",
          "data": {
            "text/plain": [
              "                                                Title               Username  \\\n",
              "0                                 Out of this world\\n                kosmasp   \n",
              "1                                       Masterpiece\\n            aheaven2005   \n",
              "2               Possibly the best movie of all time\\n             theoledoux   \n",
              "3                I waited 5 years to watch it again\\n               Ksa-2010   \n",
              "4                                       Masterpiece\\n          e-jackson1985   \n",
              "5                                     7 years later\\n          ravesch-83770   \n",
              "6      A journey across the galaxy to save humanity\\n               Tweekums   \n",
              "7                                   Excellent Movie\\n  frank-ancestor-hunter   \n",
              "8                              Absolutely Brilliant\\n              gavin6942   \n",
              "9                                I would rate 11/10\\n        mysteryvoiceman   \n",
              "10                             A Sci-Fi Masterpiece\\n              zardoz-13   \n",
              "11   A Visually Monumental And Thoughtful Sci-Fi E...                CalRhys   \n",
              "12                       Greatest movie of all time\\n              FeastMode   \n",
              "13                                 Fascinating Film\\n            Rainey-Dawn   \n",
              "14   time travel= relativity =space equilibrium= N...                 lark40   \n",
              "15   Maybe the most spectacular movie of 2014 and ...   Horst_In_Translation   \n",
              "16                Best movie I have seen in my life\\n            Patterson13   \n",
              "17   Interstellar is quite an intriguing space mov...                   tavm   \n",
              "18   I've never seen a movie so good in a long time\\n          bomberh-86128   \n",
              "19                             The best of all Time\\n              evolvingh   \n",
              "\n",
              "             Tanggal                                             Review  \\\n",
              "0        31 May 2015  A lot has been said and written about Interste...   \n",
              "1       25 June 2022  A science-fiction masterpiece. Nolan executes ...   \n",
              "2       6 April 2021  I think just about everything has been said ab...   \n",
              "3       26 June 2019  After watching this insane movie in the theatr...   \n",
              "4         8 May 2022  Amongst the best movies of all time. The story...   \n",
              "5    29 October 2021  Sometimes I just need to see the start. Or end...   \n",
              "6    27 January 2016  Set in a future where crop species are going e...   \n",
              "7       6 April 2015  I judge a movie by how long it takes me to rea...   \n",
              "8    25 January 2015  A team of explorers travel through a wormhole ...   \n",
              "9       24 June 2018  I hadn't seen this but movie and caught it on ...   \n",
              "10  25 November 2014  Hollywood science fiction spectacles about ant...   \n",
              "11   8 November 2014  I was extremely lucky to get the chance to see...   \n",
              "12       1 July 2019  I rate this movie 11/10 to signify it's greatn...   \n",
              "13  15 November 2020  The earth is plagued with droughts, famines an...   \n",
              "14  13 November 2014  chris Nolan a delivered another original story...   \n",
              "15  25 December 2014  To this day , many people still talk a lot abo...   \n",
              "16      8 April 2015  This movie was the best written, acted, visual...   \n",
              "17   1 December 2014  Just watched this on IMAX with my movie theatr...   \n",
              "18       6 July 2022  This movie is no doubt the best I've ever scen...   \n",
              "19    28 August 2020  There is not even a single day I don't think o...   \n",
              "\n",
              "                                       Cleaned Review  \\\n",
              "0     lot has been said and written about interste...   \n",
              "1     sciencefiction masterpiece nolan executes   ...   \n",
              "2     think just about everything has been said ab...   \n",
              "3   after watching this insane movie in the theatr...   \n",
              "4   amongst the best movies of all time the story ...   \n",
              "5   sometimes   just need to see the start or end ...   \n",
              "6   set in   future where crop species are going e...   \n",
              "7     judge   movie by how long it takes me to rea...   \n",
              "8     team of explorers travel through   wormhole ...   \n",
              "9     hadnt seen this but movie and caught it on  ...   \n",
              "10  hollywood science fiction spectacles about ant...   \n",
              "11    was extremely lucky to get the chance to see...   \n",
              "12    rate this movie      to signify its greatnes...   \n",
              "13  the earth is plagued with droughts famines and...   \n",
              "14  chris nolan   delivered another original story...   \n",
              "15  to this day  many people still talk   lot abou...   \n",
              "16  this movie was the best written acted visual e...   \n",
              "17  just watched this on imax with my movie theatr...   \n",
              "18  this movie is no doubt the best ive ever scene...   \n",
              "19  there is not even   single day   dont think of...   \n",
              "\n",
              "                                            Tokenized  \\\n",
              "0   ['lot', 'has', 'been', 'said', 'and', 'written...   \n",
              "1   ['sciencefiction', 'masterpiece', 'nolan', 'ex...   \n",
              "2   ['think', 'just', 'about', 'everything', 'has'...   \n",
              "3   ['after', 'watching', 'this', 'insane', 'movie...   \n",
              "4   ['amongst', 'the', 'best', 'movies', 'of', 'al...   \n",
              "5   ['sometimes', 'just', 'need', 'to', 'see', 'th...   \n",
              "6   ['set', 'in', 'future', 'where', 'crop', 'spec...   \n",
              "7   ['judge', 'movie', 'by', 'how', 'long', 'it', ...   \n",
              "8   ['team', 'of', 'explorers', 'travel', 'through...   \n",
              "9   ['hadnt', 'seen', 'this', 'but', 'movie', 'and...   \n",
              "10  ['hollywood', 'science', 'fiction', 'spectacle...   \n",
              "11  ['was', 'extremely', 'lucky', 'to', 'get', 'th...   \n",
              "12  ['rate', 'this', 'movie', 'to', 'signify', 'it...   \n",
              "13  ['the', 'earth', 'is', 'plagued', 'with', 'dro...   \n",
              "14  ['chris', 'nolan', 'delivered', 'another', 'or...   \n",
              "15  ['to', 'this', 'day', 'many', 'people', 'still...   \n",
              "16  ['this', 'movie', 'was', 'the', 'best', 'writt...   \n",
              "17  ['just', 'watched', 'this', 'on', 'imax', 'wit...   \n",
              "18  ['this', 'movie', 'is', 'no', 'doubt', 'the', ...   \n",
              "19  ['there', 'is', 'not', 'even', 'single', 'day'...   \n",
              "\n",
              "                                           Normalized  \\\n",
              "0   ['lot', 'ha', 'been', 'said', 'and', 'written'...   \n",
              "1   ['sciencefiction', 'masterpiece', 'nolan', 'ex...   \n",
              "2   ['think', 'just', 'about', 'everything', 'ha',...   \n",
              "3   ['after', 'watching', 'this', 'insane', 'movie...   \n",
              "4   ['amongst', 'the', 'best', 'movie', 'of', 'all...   \n",
              "5   ['sometimes', 'just', 'need', 'to', 'see', 'th...   \n",
              "6   ['set', 'in', 'future', 'where', 'crop', 'spec...   \n",
              "7   ['judge', 'movie', 'by', 'how', 'long', 'it', ...   \n",
              "8   ['team', 'of', 'explorer', 'travel', 'through'...   \n",
              "9   ['hadnt', 'seen', 'this', 'but', 'movie', 'and...   \n",
              "10  ['hollywood', 'science', 'fiction', 'spectacle...   \n",
              "11  ['wa', 'extremely', 'lucky', 'to', 'get', 'the...   \n",
              "12  ['rate', 'this', 'movie', 'to', 'signify', 'it...   \n",
              "13  ['the', 'earth', 'is', 'plagued', 'with', 'dro...   \n",
              "14  ['chris', 'nolan', 'delivered', 'another', 'or...   \n",
              "15  ['to', 'this', 'day', 'many', 'people', 'still...   \n",
              "16  ['this', 'movie', 'wa', 'the', 'best', 'writte...   \n",
              "17  ['just', 'watched', 'this', 'on', 'imax', 'wit...   \n",
              "18  ['this', 'movie', 'is', 'no', 'doubt', 'the', ...   \n",
              "19  ['there', 'is', 'not', 'even', 'single', 'day'...   \n",
              "\n",
              "                                             Filtered  \\\n",
              "0   ['lot', 'ha', 'said', 'written', 'interstellar...   \n",
              "1   ['sciencefiction', 'masterpiece', 'nolan', 'ex...   \n",
              "2   ['think', 'everything', 'ha', 'said', 'film', ...   \n",
              "3   ['watching', 'insane', 'movie', 'theatre', 'ba...   \n",
              "4   ['amongst', 'best', 'movie', 'time', 'story', ...   \n",
              "5   ['sometimes', 'need', 'see', 'start', 'end', '...   \n",
              "6   ['set', 'future', 'crop', 'specie', 'going', '...   \n",
              "7   ['judge', 'movie', 'long', 'take', 'realize', ...   \n",
              "8   ['team', 'explorer', 'travel', 'wormhole', 'at...   \n",
              "9   ['hadnt', 'seen', 'movie', 'caught', 'flight',...   \n",
              "10  ['hollywood', 'science', 'fiction', 'spectacle...   \n",
              "11  ['wa', 'extremely', 'lucky', 'get', 'chance', ...   \n",
              "12  ['rate', 'movie', 'signify', 'greatness', 'per...   \n",
              "13  ['earth', 'plagued', 'drought', 'famine', 'apo...   \n",
              "14  ['chris', 'nolan', 'delivered', 'another', 'or...   \n",
              "15  ['day', 'many', 'people', 'still', 'talk', 'lo...   \n",
              "16  ['movie', 'wa', 'best', 'written', 'acted', 'v...   \n",
              "17  ['watched', 'imax', 'movie', 'theatreworking',...   \n",
              "18  ['movie', 'doubt', 'best', 'ive', 'ever', 'sce...   \n",
              "19  ['even', 'single', 'day', 'dont', 'think', 'mo...   \n",
              "\n",
              "                                              Stemmed  \\\n",
              "0   ['lot', 'ha', 'said', 'written', 'interstellar...   \n",
              "1   ['sciencefict', 'masterpiec', 'nolan', 'execut...   \n",
              "2   ['think', 'everyth', 'ha', 'said', 'film', 'st...   \n",
              "3   ['watch', 'insan', 'movi', 'theatr', 'back', '...   \n",
              "4   ['amongst', 'best', 'movi', 'time', 'stori', '...   \n",
              "5   ['sometim', 'need', 'see', 'start', 'end', 'tr...   \n",
              "6   ['set', 'futur', 'crop', 'speci', 'go', 'extin...   \n",
              "7   ['judg', 'movi', 'long', 'take', 'realiz', 'ne...   \n",
              "8   ['team', 'explor', 'travel', 'wormhol', 'attem...   \n",
              "9   ['hadnt', 'seen', 'movi', 'caught', 'flight', ...   \n",
              "10  ['hollywood', 'scienc', 'fiction', 'spectacl',...   \n",
              "11  ['wa', 'extrem', 'lucki', 'get', 'chanc', 'see...   \n",
              "12  ['rate', 'movi', 'signifi', 'great', 'perfect'...   \n",
              "13  ['earth', 'plagu', 'drought', 'famin', 'apocal...   \n",
              "14  ['chri', 'nolan', 'deliv', 'anoth', 'origin', ...   \n",
              "15  ['day', 'mani', 'peopl', 'still', 'talk', 'lot...   \n",
              "16  ['movi', 'wa', 'best', 'written', 'act', 'visu...   \n",
              "17  ['watch', 'imax', 'movi', 'theatrework', 'frie...   \n",
              "18  ['movi', 'doubt', 'best', 'ive', 'ever', 'scen...   \n",
              "19  ['even', 'singl', 'day', 'dont', 'think', 'mov...   \n",
              "\n",
              "                                         Final Review  \n",
              "0   lot ha said written interstellar obvious take ...  \n",
              "1   sciencefict masterpiec nolan execut marvel dir...  \n",
              "2   think everyth ha said film still tell masterpi...  \n",
              "3   watch insan movi theatr back swore god wait ye...  \n",
              "4   amongst best movi time stori act script cinema...  \n",
              "5   sometim need see start end trailer music theme...  \n",
              "6   set futur crop speci go extinct one anoth form...  \n",
              "7   judg movi long take realiz need bathroom long ...  \n",
              "8   team explor travel wormhol attempt ensur human...  \n",
              "9   hadnt seen movi caught flight back dr one favo...  \n",
              "10  hollywood scienc fiction spectacl antagonist a...  \n",
              "11  wa extrem lucki get chanc see film upon first ...  \n",
              "12  rate movi signifi great perfect mindblow worko...  \n",
              "13  earth plagu drought famin apocalypt disast man...  \n",
              "14  chri nolan deliv anoth origin stori le special...  \n",
              "15  day mani peopl still talk lot christoph nolan ...  \n",
              "16  movi wa best written act visual effect etc mov...  \n",
              "17  watch imax movi theatrework friend seen ha mat...  \n",
              "18  movi doubt best ive ever scene movi give every...  \n",
              "19  even singl day dont think movi scene ha profou...  "
            ],
            "text/html": [
              "\n",
              "  <div id=\"df-5df6afdd-9cd5-4b74-a547-7fb61a0c81fd\" class=\"colab-df-container\">\n",
              "    <div>\n",
              "<style scoped>\n",
              "    .dataframe tbody tr th:only-of-type {\n",
              "        vertical-align: middle;\n",
              "    }\n",
              "\n",
              "    .dataframe tbody tr th {\n",
              "        vertical-align: top;\n",
              "    }\n",
              "\n",
              "    .dataframe thead th {\n",
              "        text-align: right;\n",
              "    }\n",
              "</style>\n",
              "<table border=\"1\" class=\"dataframe\">\n",
              "  <thead>\n",
              "    <tr style=\"text-align: right;\">\n",
              "      <th></th>\n",
              "      <th>Title</th>\n",
              "      <th>Username</th>\n",
              "      <th>Tanggal</th>\n",
              "      <th>Review</th>\n",
              "      <th>Cleaned Review</th>\n",
              "      <th>Tokenized</th>\n",
              "      <th>Normalized</th>\n",
              "      <th>Filtered</th>\n",
              "      <th>Stemmed</th>\n",
              "      <th>Final Review</th>\n",
              "    </tr>\n",
              "  </thead>\n",
              "  <tbody>\n",
              "    <tr>\n",
              "      <th>0</th>\n",
              "      <td>Out of this world\\n</td>\n",
              "      <td>kosmasp</td>\n",
              "      <td>31 May 2015</td>\n",
              "      <td>A lot has been said and written about Interste...</td>\n",
              "      <td>lot has been said and written about interste...</td>\n",
              "      <td>['lot', 'has', 'been', 'said', 'and', 'written...</td>\n",
              "      <td>['lot', 'ha', 'been', 'said', 'and', 'written'...</td>\n",
              "      <td>['lot', 'ha', 'said', 'written', 'interstellar...</td>\n",
              "      <td>['lot', 'ha', 'said', 'written', 'interstellar...</td>\n",
              "      <td>lot ha said written interstellar obvious take ...</td>\n",
              "    </tr>\n",
              "    <tr>\n",
              "      <th>1</th>\n",
              "      <td>Masterpiece\\n</td>\n",
              "      <td>aheaven2005</td>\n",
              "      <td>25 June 2022</td>\n",
              "      <td>A science-fiction masterpiece. Nolan executes ...</td>\n",
              "      <td>sciencefiction masterpiece nolan executes   ...</td>\n",
              "      <td>['sciencefiction', 'masterpiece', 'nolan', 'ex...</td>\n",
              "      <td>['sciencefiction', 'masterpiece', 'nolan', 'ex...</td>\n",
              "      <td>['sciencefiction', 'masterpiece', 'nolan', 'ex...</td>\n",
              "      <td>['sciencefict', 'masterpiec', 'nolan', 'execut...</td>\n",
              "      <td>sciencefict masterpiec nolan execut marvel dir...</td>\n",
              "    </tr>\n",
              "    <tr>\n",
              "      <th>2</th>\n",
              "      <td>Possibly the best movie of all time\\n</td>\n",
              "      <td>theoledoux</td>\n",
              "      <td>6 April 2021</td>\n",
              "      <td>I think just about everything has been said ab...</td>\n",
              "      <td>think just about everything has been said ab...</td>\n",
              "      <td>['think', 'just', 'about', 'everything', 'has'...</td>\n",
              "      <td>['think', 'just', 'about', 'everything', 'ha',...</td>\n",
              "      <td>['think', 'everything', 'ha', 'said', 'film', ...</td>\n",
              "      <td>['think', 'everyth', 'ha', 'said', 'film', 'st...</td>\n",
              "      <td>think everyth ha said film still tell masterpi...</td>\n",
              "    </tr>\n",
              "    <tr>\n",
              "      <th>3</th>\n",
              "      <td>I waited 5 years to watch it again\\n</td>\n",
              "      <td>Ksa-2010</td>\n",
              "      <td>26 June 2019</td>\n",
              "      <td>After watching this insane movie in the theatr...</td>\n",
              "      <td>after watching this insane movie in the theatr...</td>\n",
              "      <td>['after', 'watching', 'this', 'insane', 'movie...</td>\n",
              "      <td>['after', 'watching', 'this', 'insane', 'movie...</td>\n",
              "      <td>['watching', 'insane', 'movie', 'theatre', 'ba...</td>\n",
              "      <td>['watch', 'insan', 'movi', 'theatr', 'back', '...</td>\n",
              "      <td>watch insan movi theatr back swore god wait ye...</td>\n",
              "    </tr>\n",
              "    <tr>\n",
              "      <th>4</th>\n",
              "      <td>Masterpiece\\n</td>\n",
              "      <td>e-jackson1985</td>\n",
              "      <td>8 May 2022</td>\n",
              "      <td>Amongst the best movies of all time. The story...</td>\n",
              "      <td>amongst the best movies of all time the story ...</td>\n",
              "      <td>['amongst', 'the', 'best', 'movies', 'of', 'al...</td>\n",
              "      <td>['amongst', 'the', 'best', 'movie', 'of', 'all...</td>\n",
              "      <td>['amongst', 'best', 'movie', 'time', 'story', ...</td>\n",
              "      <td>['amongst', 'best', 'movi', 'time', 'stori', '...</td>\n",
              "      <td>amongst best movi time stori act script cinema...</td>\n",
              "    </tr>\n",
              "    <tr>\n",
              "      <th>5</th>\n",
              "      <td>7 years later\\n</td>\n",
              "      <td>ravesch-83770</td>\n",
              "      <td>29 October 2021</td>\n",
              "      <td>Sometimes I just need to see the start. Or end...</td>\n",
              "      <td>sometimes   just need to see the start or end ...</td>\n",
              "      <td>['sometimes', 'just', 'need', 'to', 'see', 'th...</td>\n",
              "      <td>['sometimes', 'just', 'need', 'to', 'see', 'th...</td>\n",
              "      <td>['sometimes', 'need', 'see', 'start', 'end', '...</td>\n",
              "      <td>['sometim', 'need', 'see', 'start', 'end', 'tr...</td>\n",
              "      <td>sometim need see start end trailer music theme...</td>\n",
              "    </tr>\n",
              "    <tr>\n",
              "      <th>6</th>\n",
              "      <td>A journey across the galaxy to save humanity\\n</td>\n",
              "      <td>Tweekums</td>\n",
              "      <td>27 January 2016</td>\n",
              "      <td>Set in a future where crop species are going e...</td>\n",
              "      <td>set in   future where crop species are going e...</td>\n",
              "      <td>['set', 'in', 'future', 'where', 'crop', 'spec...</td>\n",
              "      <td>['set', 'in', 'future', 'where', 'crop', 'spec...</td>\n",
              "      <td>['set', 'future', 'crop', 'specie', 'going', '...</td>\n",
              "      <td>['set', 'futur', 'crop', 'speci', 'go', 'extin...</td>\n",
              "      <td>set futur crop speci go extinct one anoth form...</td>\n",
              "    </tr>\n",
              "    <tr>\n",
              "      <th>7</th>\n",
              "      <td>Excellent Movie\\n</td>\n",
              "      <td>frank-ancestor-hunter</td>\n",
              "      <td>6 April 2015</td>\n",
              "      <td>I judge a movie by how long it takes me to rea...</td>\n",
              "      <td>judge   movie by how long it takes me to rea...</td>\n",
              "      <td>['judge', 'movie', 'by', 'how', 'long', 'it', ...</td>\n",
              "      <td>['judge', 'movie', 'by', 'how', 'long', 'it', ...</td>\n",
              "      <td>['judge', 'movie', 'long', 'take', 'realize', ...</td>\n",
              "      <td>['judg', 'movi', 'long', 'take', 'realiz', 'ne...</td>\n",
              "      <td>judg movi long take realiz need bathroom long ...</td>\n",
              "    </tr>\n",
              "    <tr>\n",
              "      <th>8</th>\n",
              "      <td>Absolutely Brilliant\\n</td>\n",
              "      <td>gavin6942</td>\n",
              "      <td>25 January 2015</td>\n",
              "      <td>A team of explorers travel through a wormhole ...</td>\n",
              "      <td>team of explorers travel through   wormhole ...</td>\n",
              "      <td>['team', 'of', 'explorers', 'travel', 'through...</td>\n",
              "      <td>['team', 'of', 'explorer', 'travel', 'through'...</td>\n",
              "      <td>['team', 'explorer', 'travel', 'wormhole', 'at...</td>\n",
              "      <td>['team', 'explor', 'travel', 'wormhol', 'attem...</td>\n",
              "      <td>team explor travel wormhol attempt ensur human...</td>\n",
              "    </tr>\n",
              "    <tr>\n",
              "      <th>9</th>\n",
              "      <td>I would rate 11/10\\n</td>\n",
              "      <td>mysteryvoiceman</td>\n",
              "      <td>24 June 2018</td>\n",
              "      <td>I hadn't seen this but movie and caught it on ...</td>\n",
              "      <td>hadnt seen this but movie and caught it on  ...</td>\n",
              "      <td>['hadnt', 'seen', 'this', 'but', 'movie', 'and...</td>\n",
              "      <td>['hadnt', 'seen', 'this', 'but', 'movie', 'and...</td>\n",
              "      <td>['hadnt', 'seen', 'movie', 'caught', 'flight',...</td>\n",
              "      <td>['hadnt', 'seen', 'movi', 'caught', 'flight', ...</td>\n",
              "      <td>hadnt seen movi caught flight back dr one favo...</td>\n",
              "    </tr>\n",
              "    <tr>\n",
              "      <th>10</th>\n",
              "      <td>A Sci-Fi Masterpiece\\n</td>\n",
              "      <td>zardoz-13</td>\n",
              "      <td>25 November 2014</td>\n",
              "      <td>Hollywood science fiction spectacles about ant...</td>\n",
              "      <td>hollywood science fiction spectacles about ant...</td>\n",
              "      <td>['hollywood', 'science', 'fiction', 'spectacle...</td>\n",
              "      <td>['hollywood', 'science', 'fiction', 'spectacle...</td>\n",
              "      <td>['hollywood', 'science', 'fiction', 'spectacle...</td>\n",
              "      <td>['hollywood', 'scienc', 'fiction', 'spectacl',...</td>\n",
              "      <td>hollywood scienc fiction spectacl antagonist a...</td>\n",
              "    </tr>\n",
              "    <tr>\n",
              "      <th>11</th>\n",
              "      <td>A Visually Monumental And Thoughtful Sci-Fi E...</td>\n",
              "      <td>CalRhys</td>\n",
              "      <td>8 November 2014</td>\n",
              "      <td>I was extremely lucky to get the chance to see...</td>\n",
              "      <td>was extremely lucky to get the chance to see...</td>\n",
              "      <td>['was', 'extremely', 'lucky', 'to', 'get', 'th...</td>\n",
              "      <td>['wa', 'extremely', 'lucky', 'to', 'get', 'the...</td>\n",
              "      <td>['wa', 'extremely', 'lucky', 'get', 'chance', ...</td>\n",
              "      <td>['wa', 'extrem', 'lucki', 'get', 'chanc', 'see...</td>\n",
              "      <td>wa extrem lucki get chanc see film upon first ...</td>\n",
              "    </tr>\n",
              "    <tr>\n",
              "      <th>12</th>\n",
              "      <td>Greatest movie of all time\\n</td>\n",
              "      <td>FeastMode</td>\n",
              "      <td>1 July 2019</td>\n",
              "      <td>I rate this movie 11/10 to signify it's greatn...</td>\n",
              "      <td>rate this movie      to signify its greatnes...</td>\n",
              "      <td>['rate', 'this', 'movie', 'to', 'signify', 'it...</td>\n",
              "      <td>['rate', 'this', 'movie', 'to', 'signify', 'it...</td>\n",
              "      <td>['rate', 'movie', 'signify', 'greatness', 'per...</td>\n",
              "      <td>['rate', 'movi', 'signifi', 'great', 'perfect'...</td>\n",
              "      <td>rate movi signifi great perfect mindblow worko...</td>\n",
              "    </tr>\n",
              "    <tr>\n",
              "      <th>13</th>\n",
              "      <td>Fascinating Film\\n</td>\n",
              "      <td>Rainey-Dawn</td>\n",
              "      <td>15 November 2020</td>\n",
              "      <td>The earth is plagued with droughts, famines an...</td>\n",
              "      <td>the earth is plagued with droughts famines and...</td>\n",
              "      <td>['the', 'earth', 'is', 'plagued', 'with', 'dro...</td>\n",
              "      <td>['the', 'earth', 'is', 'plagued', 'with', 'dro...</td>\n",
              "      <td>['earth', 'plagued', 'drought', 'famine', 'apo...</td>\n",
              "      <td>['earth', 'plagu', 'drought', 'famin', 'apocal...</td>\n",
              "      <td>earth plagu drought famin apocalypt disast man...</td>\n",
              "    </tr>\n",
              "    <tr>\n",
              "      <th>14</th>\n",
              "      <td>time travel= relativity =space equilibrium= N...</td>\n",
              "      <td>lark40</td>\n",
              "      <td>13 November 2014</td>\n",
              "      <td>chris Nolan a delivered another original story...</td>\n",
              "      <td>chris nolan   delivered another original story...</td>\n",
              "      <td>['chris', 'nolan', 'delivered', 'another', 'or...</td>\n",
              "      <td>['chris', 'nolan', 'delivered', 'another', 'or...</td>\n",
              "      <td>['chris', 'nolan', 'delivered', 'another', 'or...</td>\n",
              "      <td>['chri', 'nolan', 'deliv', 'anoth', 'origin', ...</td>\n",
              "      <td>chri nolan deliv anoth origin stori le special...</td>\n",
              "    </tr>\n",
              "    <tr>\n",
              "      <th>15</th>\n",
              "      <td>Maybe the most spectacular movie of 2014 and ...</td>\n",
              "      <td>Horst_In_Translation</td>\n",
              "      <td>25 December 2014</td>\n",
              "      <td>To this day , many people still talk a lot abo...</td>\n",
              "      <td>to this day  many people still talk   lot abou...</td>\n",
              "      <td>['to', 'this', 'day', 'many', 'people', 'still...</td>\n",
              "      <td>['to', 'this', 'day', 'many', 'people', 'still...</td>\n",
              "      <td>['day', 'many', 'people', 'still', 'talk', 'lo...</td>\n",
              "      <td>['day', 'mani', 'peopl', 'still', 'talk', 'lot...</td>\n",
              "      <td>day mani peopl still talk lot christoph nolan ...</td>\n",
              "    </tr>\n",
              "    <tr>\n",
              "      <th>16</th>\n",
              "      <td>Best movie I have seen in my life\\n</td>\n",
              "      <td>Patterson13</td>\n",
              "      <td>8 April 2015</td>\n",
              "      <td>This movie was the best written, acted, visual...</td>\n",
              "      <td>this movie was the best written acted visual e...</td>\n",
              "      <td>['this', 'movie', 'was', 'the', 'best', 'writt...</td>\n",
              "      <td>['this', 'movie', 'wa', 'the', 'best', 'writte...</td>\n",
              "      <td>['movie', 'wa', 'best', 'written', 'acted', 'v...</td>\n",
              "      <td>['movi', 'wa', 'best', 'written', 'act', 'visu...</td>\n",
              "      <td>movi wa best written act visual effect etc mov...</td>\n",
              "    </tr>\n",
              "    <tr>\n",
              "      <th>17</th>\n",
              "      <td>Interstellar is quite an intriguing space mov...</td>\n",
              "      <td>tavm</td>\n",
              "      <td>1 December 2014</td>\n",
              "      <td>Just watched this on IMAX with my movie theatr...</td>\n",
              "      <td>just watched this on imax with my movie theatr...</td>\n",
              "      <td>['just', 'watched', 'this', 'on', 'imax', 'wit...</td>\n",
              "      <td>['just', 'watched', 'this', 'on', 'imax', 'wit...</td>\n",
              "      <td>['watched', 'imax', 'movie', 'theatreworking',...</td>\n",
              "      <td>['watch', 'imax', 'movi', 'theatrework', 'frie...</td>\n",
              "      <td>watch imax movi theatrework friend seen ha mat...</td>\n",
              "    </tr>\n",
              "    <tr>\n",
              "      <th>18</th>\n",
              "      <td>I've never seen a movie so good in a long time\\n</td>\n",
              "      <td>bomberh-86128</td>\n",
              "      <td>6 July 2022</td>\n",
              "      <td>This movie is no doubt the best I've ever scen...</td>\n",
              "      <td>this movie is no doubt the best ive ever scene...</td>\n",
              "      <td>['this', 'movie', 'is', 'no', 'doubt', 'the', ...</td>\n",
              "      <td>['this', 'movie', 'is', 'no', 'doubt', 'the', ...</td>\n",
              "      <td>['movie', 'doubt', 'best', 'ive', 'ever', 'sce...</td>\n",
              "      <td>['movi', 'doubt', 'best', 'ive', 'ever', 'scen...</td>\n",
              "      <td>movi doubt best ive ever scene movi give every...</td>\n",
              "    </tr>\n",
              "    <tr>\n",
              "      <th>19</th>\n",
              "      <td>The best of all Time\\n</td>\n",
              "      <td>evolvingh</td>\n",
              "      <td>28 August 2020</td>\n",
              "      <td>There is not even a single day I don't think o...</td>\n",
              "      <td>there is not even   single day   dont think of...</td>\n",
              "      <td>['there', 'is', 'not', 'even', 'single', 'day'...</td>\n",
              "      <td>['there', 'is', 'not', 'even', 'single', 'day'...</td>\n",
              "      <td>['even', 'single', 'day', 'dont', 'think', 'mo...</td>\n",
              "      <td>['even', 'singl', 'day', 'dont', 'think', 'mov...</td>\n",
              "      <td>even singl day dont think movi scene ha profou...</td>\n",
              "    </tr>\n",
              "  </tbody>\n",
              "</table>\n",
              "</div>\n",
              "    <div class=\"colab-df-buttons\">\n",
              "\n",
              "  <div class=\"colab-df-container\">\n",
              "    <button class=\"colab-df-convert\" onclick=\"convertToInteractive('df-5df6afdd-9cd5-4b74-a547-7fb61a0c81fd')\"\n",
              "            title=\"Convert this dataframe to an interactive table.\"\n",
              "            style=\"display:none;\">\n",
              "\n",
              "  <svg xmlns=\"http://www.w3.org/2000/svg\" height=\"24px\" viewBox=\"0 -960 960 960\">\n",
              "    <path d=\"M120-120v-720h720v720H120Zm60-500h600v-160H180v160Zm220 220h160v-160H400v160Zm0 220h160v-160H400v160ZM180-400h160v-160H180v160Zm440 0h160v-160H620v160ZM180-180h160v-160H180v160Zm440 0h160v-160H620v160Z\"/>\n",
              "  </svg>\n",
              "    </button>\n",
              "\n",
              "  <style>\n",
              "    .colab-df-container {\n",
              "      display:flex;\n",
              "      gap: 12px;\n",
              "    }\n",
              "\n",
              "    .colab-df-convert {\n",
              "      background-color: #E8F0FE;\n",
              "      border: none;\n",
              "      border-radius: 50%;\n",
              "      cursor: pointer;\n",
              "      display: none;\n",
              "      fill: #1967D2;\n",
              "      height: 32px;\n",
              "      padding: 0 0 0 0;\n",
              "      width: 32px;\n",
              "    }\n",
              "\n",
              "    .colab-df-convert:hover {\n",
              "      background-color: #E2EBFA;\n",
              "      box-shadow: 0px 1px 2px rgba(60, 64, 67, 0.3), 0px 1px 3px 1px rgba(60, 64, 67, 0.15);\n",
              "      fill: #174EA6;\n",
              "    }\n",
              "\n",
              "    .colab-df-buttons div {\n",
              "      margin-bottom: 4px;\n",
              "    }\n",
              "\n",
              "    [theme=dark] .colab-df-convert {\n",
              "      background-color: #3B4455;\n",
              "      fill: #D2E3FC;\n",
              "    }\n",
              "\n",
              "    [theme=dark] .colab-df-convert:hover {\n",
              "      background-color: #434B5C;\n",
              "      box-shadow: 0px 1px 3px 1px rgba(0, 0, 0, 0.15);\n",
              "      filter: drop-shadow(0px 1px 2px rgba(0, 0, 0, 0.3));\n",
              "      fill: #FFFFFF;\n",
              "    }\n",
              "  </style>\n",
              "\n",
              "    <script>\n",
              "      const buttonEl =\n",
              "        document.querySelector('#df-5df6afdd-9cd5-4b74-a547-7fb61a0c81fd button.colab-df-convert');\n",
              "      buttonEl.style.display =\n",
              "        google.colab.kernel.accessAllowed ? 'block' : 'none';\n",
              "\n",
              "      async function convertToInteractive(key) {\n",
              "        const element = document.querySelector('#df-5df6afdd-9cd5-4b74-a547-7fb61a0c81fd');\n",
              "        const dataTable =\n",
              "          await google.colab.kernel.invokeFunction('convertToInteractive',\n",
              "                                                    [key], {});\n",
              "        if (!dataTable) return;\n",
              "\n",
              "        const docLinkHtml = 'Like what you see? Visit the ' +\n",
              "          '<a target=\"_blank\" href=https://colab.research.google.com/notebooks/data_table.ipynb>data table notebook</a>'\n",
              "          + ' to learn more about interactive tables.';\n",
              "        element.innerHTML = '';\n",
              "        dataTable['output_type'] = 'display_data';\n",
              "        await google.colab.output.renderOutput(dataTable, element);\n",
              "        const docLink = document.createElement('div');\n",
              "        docLink.innerHTML = docLinkHtml;\n",
              "        element.appendChild(docLink);\n",
              "      }\n",
              "    </script>\n",
              "  </div>\n",
              "\n",
              "\n",
              "<div id=\"df-602de92e-8539-4d22-8dde-006b9bdf8951\">\n",
              "  <button class=\"colab-df-quickchart\" onclick=\"quickchart('df-602de92e-8539-4d22-8dde-006b9bdf8951')\"\n",
              "            title=\"Suggest charts\"\n",
              "            style=\"display:none;\">\n",
              "\n",
              "<svg xmlns=\"http://www.w3.org/2000/svg\" height=\"24px\"viewBox=\"0 0 24 24\"\n",
              "     width=\"24px\">\n",
              "    <g>\n",
              "        <path d=\"M19 3H5c-1.1 0-2 .9-2 2v14c0 1.1.9 2 2 2h14c1.1 0 2-.9 2-2V5c0-1.1-.9-2-2-2zM9 17H7v-7h2v7zm4 0h-2V7h2v10zm4 0h-2v-4h2v4z\"/>\n",
              "    </g>\n",
              "</svg>\n",
              "  </button>\n",
              "\n",
              "<style>\n",
              "  .colab-df-quickchart {\n",
              "      --bg-color: #E8F0FE;\n",
              "      --fill-color: #1967D2;\n",
              "      --hover-bg-color: #E2EBFA;\n",
              "      --hover-fill-color: #174EA6;\n",
              "      --disabled-fill-color: #AAA;\n",
              "      --disabled-bg-color: #DDD;\n",
              "  }\n",
              "\n",
              "  [theme=dark] .colab-df-quickchart {\n",
              "      --bg-color: #3B4455;\n",
              "      --fill-color: #D2E3FC;\n",
              "      --hover-bg-color: #434B5C;\n",
              "      --hover-fill-color: #FFFFFF;\n",
              "      --disabled-bg-color: #3B4455;\n",
              "      --disabled-fill-color: #666;\n",
              "  }\n",
              "\n",
              "  .colab-df-quickchart {\n",
              "    background-color: var(--bg-color);\n",
              "    border: none;\n",
              "    border-radius: 50%;\n",
              "    cursor: pointer;\n",
              "    display: none;\n",
              "    fill: var(--fill-color);\n",
              "    height: 32px;\n",
              "    padding: 0;\n",
              "    width: 32px;\n",
              "  }\n",
              "\n",
              "  .colab-df-quickchart:hover {\n",
              "    background-color: var(--hover-bg-color);\n",
              "    box-shadow: 0 1px 2px rgba(60, 64, 67, 0.3), 0 1px 3px 1px rgba(60, 64, 67, 0.15);\n",
              "    fill: var(--button-hover-fill-color);\n",
              "  }\n",
              "\n",
              "  .colab-df-quickchart-complete:disabled,\n",
              "  .colab-df-quickchart-complete:disabled:hover {\n",
              "    background-color: var(--disabled-bg-color);\n",
              "    fill: var(--disabled-fill-color);\n",
              "    box-shadow: none;\n",
              "  }\n",
              "\n",
              "  .colab-df-spinner {\n",
              "    border: 2px solid var(--fill-color);\n",
              "    border-color: transparent;\n",
              "    border-bottom-color: var(--fill-color);\n",
              "    animation:\n",
              "      spin 1s steps(1) infinite;\n",
              "  }\n",
              "\n",
              "  @keyframes spin {\n",
              "    0% {\n",
              "      border-color: transparent;\n",
              "      border-bottom-color: var(--fill-color);\n",
              "      border-left-color: var(--fill-color);\n",
              "    }\n",
              "    20% {\n",
              "      border-color: transparent;\n",
              "      border-left-color: var(--fill-color);\n",
              "      border-top-color: var(--fill-color);\n",
              "    }\n",
              "    30% {\n",
              "      border-color: transparent;\n",
              "      border-left-color: var(--fill-color);\n",
              "      border-top-color: var(--fill-color);\n",
              "      border-right-color: var(--fill-color);\n",
              "    }\n",
              "    40% {\n",
              "      border-color: transparent;\n",
              "      border-right-color: var(--fill-color);\n",
              "      border-top-color: var(--fill-color);\n",
              "    }\n",
              "    60% {\n",
              "      border-color: transparent;\n",
              "      border-right-color: var(--fill-color);\n",
              "    }\n",
              "    80% {\n",
              "      border-color: transparent;\n",
              "      border-right-color: var(--fill-color);\n",
              "      border-bottom-color: var(--fill-color);\n",
              "    }\n",
              "    90% {\n",
              "      border-color: transparent;\n",
              "      border-bottom-color: var(--fill-color);\n",
              "    }\n",
              "  }\n",
              "</style>\n",
              "\n",
              "  <script>\n",
              "    async function quickchart(key) {\n",
              "      const quickchartButtonEl =\n",
              "        document.querySelector('#' + key + ' button');\n",
              "      quickchartButtonEl.disabled = true;  // To prevent multiple clicks.\n",
              "      quickchartButtonEl.classList.add('colab-df-spinner');\n",
              "      try {\n",
              "        const charts = await google.colab.kernel.invokeFunction(\n",
              "            'suggestCharts', [key], {});\n",
              "      } catch (error) {\n",
              "        console.error('Error during call to suggestCharts:', error);\n",
              "      }\n",
              "      quickchartButtonEl.classList.remove('colab-df-spinner');\n",
              "      quickchartButtonEl.classList.add('colab-df-quickchart-complete');\n",
              "    }\n",
              "    (() => {\n",
              "      let quickchartButtonEl =\n",
              "        document.querySelector('#df-602de92e-8539-4d22-8dde-006b9bdf8951 button');\n",
              "      quickchartButtonEl.style.display =\n",
              "        google.colab.kernel.accessAllowed ? 'block' : 'none';\n",
              "    })();\n",
              "  </script>\n",
              "</div>\n",
              "    </div>\n",
              "  </div>\n"
            ]
          },
          "metadata": {},
          "execution_count": 11
        }
      ]
    },
    {
      "cell_type": "code",
      "source": [
        "print(f'shape: {data_sentiment.shape}')"
      ],
      "metadata": {
        "colab": {
          "base_uri": "https://localhost:8080/"
        },
        "id": "jVBMfEmZpDi2",
        "outputId": "7a3e8e05-d254-4c68-dc62-8f759637436c"
      },
      "execution_count": null,
      "outputs": [
        {
          "output_type": "stream",
          "name": "stdout",
          "text": [
            "shape: (165, 10)\n"
          ]
        }
      ]
    },
    {
      "cell_type": "code",
      "source": [
        "import nltk\n",
        "from nltk.sentiment.vader import SentimentIntensityAnalyzer\n",
        "nltk.download(\"vader_lexicon\")"
      ],
      "metadata": {
        "colab": {
          "base_uri": "https://localhost:8080/"
        },
        "id": "2ABcMqEEpT_N",
        "outputId": "a5204a3b-58a0-40a9-8255-a983bc343204"
      },
      "execution_count": null,
      "outputs": [
        {
          "output_type": "stream",
          "name": "stderr",
          "text": [
            "[nltk_data] Downloading package vader_lexicon to /root/nltk_data...\n"
          ]
        },
        {
          "output_type": "execute_result",
          "data": {
            "text/plain": [
              "True"
            ]
          },
          "metadata": {},
          "execution_count": 18
        }
      ]
    },
    {
      "cell_type": "code",
      "source": [
        "sentiments = SentimentIntensityAnalyzer()\n",
        "data_sentiment[\"Positive\"] = [sentiments.polarity_scores(i)[\"pos\"] for i in data_sentiment[\"Final Review\"]]\n",
        "data_sentiment[\"Negative\"] = [sentiments.polarity_scores(i)[\"neg\"] for i in data_sentiment[\"Final Review\"]]\n",
        "data_sentiment[\"Neutral\"] = [sentiments.polarity_scores(i)[\"neu\"] for i in data_sentiment[\"Final Review\"]]\n",
        "data_sentiment[\"Compound\"] = [sentiments.polarity_scores(i)[\"compound\"] for i in data_sentiment[\"Final Review\"]]\n",
        "data_sentiment.head()"
      ],
      "metadata": {
        "id": "EPOIGe1kqAcL"
      },
      "execution_count": null,
      "outputs": []
    },
    {
      "cell_type": "code",
      "source": [
        "score = data_sentiment[\"Compound\"].values\n",
        "sentiment = []\n",
        "for i in score:\n",
        "  if i >= 0.05:\n",
        "    sentiment.append(\"Positif\")\n",
        "  elif i <= -0.05:\n",
        "    sentiment.append(\"Negatif\")\n",
        "  else:\n",
        "    sentiment.append(\"Netral\")\n",
        "data_sentiment[\"Sentiment\"] = sentiment\n",
        "data_sentiment.head(60)"
      ],
      "metadata": {
        "id": "Cd6TSpuzq5I5"
      },
      "execution_count": null,
      "outputs": []
    },
    {
      "cell_type": "code",
      "source": [
        "!pip install plotly\n",
        "import plotly.express as px"
      ],
      "metadata": {
        "colab": {
          "base_uri": "https://localhost:8080/"
        },
        "id": "Ej5i4lWfv-h8",
        "outputId": "271f9837-0d09-4f39-f608-f51dd7257727"
      },
      "execution_count": null,
      "outputs": [
        {
          "output_type": "stream",
          "name": "stdout",
          "text": [
            "Requirement already satisfied: plotly in /usr/local/lib/python3.10/dist-packages (5.15.0)\n",
            "Requirement already satisfied: tenacity>=6.2.0 in /usr/local/lib/python3.10/dist-packages (from plotly) (8.2.3)\n",
            "Requirement already satisfied: packaging in /usr/local/lib/python3.10/dist-packages (from plotly) (23.2)\n"
          ]
        }
      ]
    },
    {
      "cell_type": "code",
      "source": [
        "sentiment_counts = data_sentiment['Sentiment'].value_counts().reset_index()\n",
        "\n",
        "sentiment_counts.columns = ['Sentiment', 'Count']\n",
        "\n",
        "fig = px.bar(sentiment_counts, x='Sentiment', y='Count', color='Sentiment',\n",
        "             labels={'Count': 'Total Count'},\n",
        "             title='Sentiment Distribution')\n",
        "\n",
        "for i, row in sentiment_counts.iterrows():\n",
        "    fig.add_annotation(text=row['Count'],\n",
        "                       x=row['Sentiment'],\n",
        "                       y=row['Count'] + 0.1,\n",
        "                       showarrow=False,\n",
        "                       font=dict(color='black', size=12))\n",
        "\n",
        "fig.show()"
      ],
      "metadata": {
        "colab": {
          "base_uri": "https://localhost:8080/",
          "height": 542
        },
        "id": "ae9XgbyewDw3",
        "outputId": "1f594995-fcaa-49ef-8777-bedb2f832f19"
      },
      "execution_count": null,
      "outputs": [
        {
          "output_type": "display_data",
          "data": {
            "text/html": [
              "<html>\n",
              "<head><meta charset=\"utf-8\" /></head>\n",
              "<body>\n",
              "    <div>            <script src=\"https://cdnjs.cloudflare.com/ajax/libs/mathjax/2.7.5/MathJax.js?config=TeX-AMS-MML_SVG\"></script><script type=\"text/javascript\">if (window.MathJax && window.MathJax.Hub && window.MathJax.Hub.Config) {window.MathJax.Hub.Config({SVG: {font: \"STIX-Web\"}});}</script>                <script type=\"text/javascript\">window.PlotlyConfig = {MathJaxConfig: 'local'};</script>\n",
              "        <script charset=\"utf-8\" src=\"https://cdn.plot.ly/plotly-2.24.1.min.js\"></script>                <div id=\"9247e11f-b386-4ed0-a79a-991af2f200f5\" class=\"plotly-graph-div\" style=\"height:525px; width:100%;\"></div>            <script type=\"text/javascript\">                                    window.PLOTLYENV=window.PLOTLYENV || {};                                    if (document.getElementById(\"9247e11f-b386-4ed0-a79a-991af2f200f5\")) {                    Plotly.newPlot(                        \"9247e11f-b386-4ed0-a79a-991af2f200f5\",                        [{\"alignmentgroup\":\"True\",\"hovertemplate\":\"Sentiment=%{x}\\u003cbr\\u003eTotal Count=%{y}\\u003cextra\\u003e\\u003c\\u002fextra\\u003e\",\"legendgroup\":\"Positif\",\"marker\":{\"color\":\"#636efa\",\"pattern\":{\"shape\":\"\"}},\"name\":\"Positif\",\"offsetgroup\":\"Positif\",\"orientation\":\"v\",\"showlegend\":true,\"textposition\":\"auto\",\"x\":[\"Positif\"],\"xaxis\":\"x\",\"y\":[147],\"yaxis\":\"y\",\"type\":\"bar\"},{\"alignmentgroup\":\"True\",\"hovertemplate\":\"Sentiment=%{x}\\u003cbr\\u003eTotal Count=%{y}\\u003cextra\\u003e\\u003c\\u002fextra\\u003e\",\"legendgroup\":\"Negatif\",\"marker\":{\"color\":\"#EF553B\",\"pattern\":{\"shape\":\"\"}},\"name\":\"Negatif\",\"offsetgroup\":\"Negatif\",\"orientation\":\"v\",\"showlegend\":true,\"textposition\":\"auto\",\"x\":[\"Negatif\"],\"xaxis\":\"x\",\"y\":[15],\"yaxis\":\"y\",\"type\":\"bar\"},{\"alignmentgroup\":\"True\",\"hovertemplate\":\"Sentiment=%{x}\\u003cbr\\u003eTotal Count=%{y}\\u003cextra\\u003e\\u003c\\u002fextra\\u003e\",\"legendgroup\":\"Netral\",\"marker\":{\"color\":\"#00cc96\",\"pattern\":{\"shape\":\"\"}},\"name\":\"Netral\",\"offsetgroup\":\"Netral\",\"orientation\":\"v\",\"showlegend\":true,\"textposition\":\"auto\",\"x\":[\"Netral\"],\"xaxis\":\"x\",\"y\":[3],\"yaxis\":\"y\",\"type\":\"bar\"}],                        {\"template\":{\"data\":{\"histogram2dcontour\":[{\"type\":\"histogram2dcontour\",\"colorbar\":{\"outlinewidth\":0,\"ticks\":\"\"},\"colorscale\":[[0.0,\"#0d0887\"],[0.1111111111111111,\"#46039f\"],[0.2222222222222222,\"#7201a8\"],[0.3333333333333333,\"#9c179e\"],[0.4444444444444444,\"#bd3786\"],[0.5555555555555556,\"#d8576b\"],[0.6666666666666666,\"#ed7953\"],[0.7777777777777778,\"#fb9f3a\"],[0.8888888888888888,\"#fdca26\"],[1.0,\"#f0f921\"]]}],\"choropleth\":[{\"type\":\"choropleth\",\"colorbar\":{\"outlinewidth\":0,\"ticks\":\"\"}}],\"histogram2d\":[{\"type\":\"histogram2d\",\"colorbar\":{\"outlinewidth\":0,\"ticks\":\"\"},\"colorscale\":[[0.0,\"#0d0887\"],[0.1111111111111111,\"#46039f\"],[0.2222222222222222,\"#7201a8\"],[0.3333333333333333,\"#9c179e\"],[0.4444444444444444,\"#bd3786\"],[0.5555555555555556,\"#d8576b\"],[0.6666666666666666,\"#ed7953\"],[0.7777777777777778,\"#fb9f3a\"],[0.8888888888888888,\"#fdca26\"],[1.0,\"#f0f921\"]]}],\"heatmap\":[{\"type\":\"heatmap\",\"colorbar\":{\"outlinewidth\":0,\"ticks\":\"\"},\"colorscale\":[[0.0,\"#0d0887\"],[0.1111111111111111,\"#46039f\"],[0.2222222222222222,\"#7201a8\"],[0.3333333333333333,\"#9c179e\"],[0.4444444444444444,\"#bd3786\"],[0.5555555555555556,\"#d8576b\"],[0.6666666666666666,\"#ed7953\"],[0.7777777777777778,\"#fb9f3a\"],[0.8888888888888888,\"#fdca26\"],[1.0,\"#f0f921\"]]}],\"heatmapgl\":[{\"type\":\"heatmapgl\",\"colorbar\":{\"outlinewidth\":0,\"ticks\":\"\"},\"colorscale\":[[0.0,\"#0d0887\"],[0.1111111111111111,\"#46039f\"],[0.2222222222222222,\"#7201a8\"],[0.3333333333333333,\"#9c179e\"],[0.4444444444444444,\"#bd3786\"],[0.5555555555555556,\"#d8576b\"],[0.6666666666666666,\"#ed7953\"],[0.7777777777777778,\"#fb9f3a\"],[0.8888888888888888,\"#fdca26\"],[1.0,\"#f0f921\"]]}],\"contourcarpet\":[{\"type\":\"contourcarpet\",\"colorbar\":{\"outlinewidth\":0,\"ticks\":\"\"}}],\"contour\":[{\"type\":\"contour\",\"colorbar\":{\"outlinewidth\":0,\"ticks\":\"\"},\"colorscale\":[[0.0,\"#0d0887\"],[0.1111111111111111,\"#46039f\"],[0.2222222222222222,\"#7201a8\"],[0.3333333333333333,\"#9c179e\"],[0.4444444444444444,\"#bd3786\"],[0.5555555555555556,\"#d8576b\"],[0.6666666666666666,\"#ed7953\"],[0.7777777777777778,\"#fb9f3a\"],[0.8888888888888888,\"#fdca26\"],[1.0,\"#f0f921\"]]}],\"surface\":[{\"type\":\"surface\",\"colorbar\":{\"outlinewidth\":0,\"ticks\":\"\"},\"colorscale\":[[0.0,\"#0d0887\"],[0.1111111111111111,\"#46039f\"],[0.2222222222222222,\"#7201a8\"],[0.3333333333333333,\"#9c179e\"],[0.4444444444444444,\"#bd3786\"],[0.5555555555555556,\"#d8576b\"],[0.6666666666666666,\"#ed7953\"],[0.7777777777777778,\"#fb9f3a\"],[0.8888888888888888,\"#fdca26\"],[1.0,\"#f0f921\"]]}],\"mesh3d\":[{\"type\":\"mesh3d\",\"colorbar\":{\"outlinewidth\":0,\"ticks\":\"\"}}],\"scatter\":[{\"fillpattern\":{\"fillmode\":\"overlay\",\"size\":10,\"solidity\":0.2},\"type\":\"scatter\"}],\"parcoords\":[{\"type\":\"parcoords\",\"line\":{\"colorbar\":{\"outlinewidth\":0,\"ticks\":\"\"}}}],\"scatterpolargl\":[{\"type\":\"scatterpolargl\",\"marker\":{\"colorbar\":{\"outlinewidth\":0,\"ticks\":\"\"}}}],\"bar\":[{\"error_x\":{\"color\":\"#2a3f5f\"},\"error_y\":{\"color\":\"#2a3f5f\"},\"marker\":{\"line\":{\"color\":\"#E5ECF6\",\"width\":0.5},\"pattern\":{\"fillmode\":\"overlay\",\"size\":10,\"solidity\":0.2}},\"type\":\"bar\"}],\"scattergeo\":[{\"type\":\"scattergeo\",\"marker\":{\"colorbar\":{\"outlinewidth\":0,\"ticks\":\"\"}}}],\"scatterpolar\":[{\"type\":\"scatterpolar\",\"marker\":{\"colorbar\":{\"outlinewidth\":0,\"ticks\":\"\"}}}],\"histogram\":[{\"marker\":{\"pattern\":{\"fillmode\":\"overlay\",\"size\":10,\"solidity\":0.2}},\"type\":\"histogram\"}],\"scattergl\":[{\"type\":\"scattergl\",\"marker\":{\"colorbar\":{\"outlinewidth\":0,\"ticks\":\"\"}}}],\"scatter3d\":[{\"type\":\"scatter3d\",\"line\":{\"colorbar\":{\"outlinewidth\":0,\"ticks\":\"\"}},\"marker\":{\"colorbar\":{\"outlinewidth\":0,\"ticks\":\"\"}}}],\"scattermapbox\":[{\"type\":\"scattermapbox\",\"marker\":{\"colorbar\":{\"outlinewidth\":0,\"ticks\":\"\"}}}],\"scatterternary\":[{\"type\":\"scatterternary\",\"marker\":{\"colorbar\":{\"outlinewidth\":0,\"ticks\":\"\"}}}],\"scattercarpet\":[{\"type\":\"scattercarpet\",\"marker\":{\"colorbar\":{\"outlinewidth\":0,\"ticks\":\"\"}}}],\"carpet\":[{\"aaxis\":{\"endlinecolor\":\"#2a3f5f\",\"gridcolor\":\"white\",\"linecolor\":\"white\",\"minorgridcolor\":\"white\",\"startlinecolor\":\"#2a3f5f\"},\"baxis\":{\"endlinecolor\":\"#2a3f5f\",\"gridcolor\":\"white\",\"linecolor\":\"white\",\"minorgridcolor\":\"white\",\"startlinecolor\":\"#2a3f5f\"},\"type\":\"carpet\"}],\"table\":[{\"cells\":{\"fill\":{\"color\":\"#EBF0F8\"},\"line\":{\"color\":\"white\"}},\"header\":{\"fill\":{\"color\":\"#C8D4E3\"},\"line\":{\"color\":\"white\"}},\"type\":\"table\"}],\"barpolar\":[{\"marker\":{\"line\":{\"color\":\"#E5ECF6\",\"width\":0.5},\"pattern\":{\"fillmode\":\"overlay\",\"size\":10,\"solidity\":0.2}},\"type\":\"barpolar\"}],\"pie\":[{\"automargin\":true,\"type\":\"pie\"}]},\"layout\":{\"autotypenumbers\":\"strict\",\"colorway\":[\"#636efa\",\"#EF553B\",\"#00cc96\",\"#ab63fa\",\"#FFA15A\",\"#19d3f3\",\"#FF6692\",\"#B6E880\",\"#FF97FF\",\"#FECB52\"],\"font\":{\"color\":\"#2a3f5f\"},\"hovermode\":\"closest\",\"hoverlabel\":{\"align\":\"left\"},\"paper_bgcolor\":\"white\",\"plot_bgcolor\":\"#E5ECF6\",\"polar\":{\"bgcolor\":\"#E5ECF6\",\"angularaxis\":{\"gridcolor\":\"white\",\"linecolor\":\"white\",\"ticks\":\"\"},\"radialaxis\":{\"gridcolor\":\"white\",\"linecolor\":\"white\",\"ticks\":\"\"}},\"ternary\":{\"bgcolor\":\"#E5ECF6\",\"aaxis\":{\"gridcolor\":\"white\",\"linecolor\":\"white\",\"ticks\":\"\"},\"baxis\":{\"gridcolor\":\"white\",\"linecolor\":\"white\",\"ticks\":\"\"},\"caxis\":{\"gridcolor\":\"white\",\"linecolor\":\"white\",\"ticks\":\"\"}},\"coloraxis\":{\"colorbar\":{\"outlinewidth\":0,\"ticks\":\"\"}},\"colorscale\":{\"sequential\":[[0.0,\"#0d0887\"],[0.1111111111111111,\"#46039f\"],[0.2222222222222222,\"#7201a8\"],[0.3333333333333333,\"#9c179e\"],[0.4444444444444444,\"#bd3786\"],[0.5555555555555556,\"#d8576b\"],[0.6666666666666666,\"#ed7953\"],[0.7777777777777778,\"#fb9f3a\"],[0.8888888888888888,\"#fdca26\"],[1.0,\"#f0f921\"]],\"sequentialminus\":[[0.0,\"#0d0887\"],[0.1111111111111111,\"#46039f\"],[0.2222222222222222,\"#7201a8\"],[0.3333333333333333,\"#9c179e\"],[0.4444444444444444,\"#bd3786\"],[0.5555555555555556,\"#d8576b\"],[0.6666666666666666,\"#ed7953\"],[0.7777777777777778,\"#fb9f3a\"],[0.8888888888888888,\"#fdca26\"],[1.0,\"#f0f921\"]],\"diverging\":[[0,\"#8e0152\"],[0.1,\"#c51b7d\"],[0.2,\"#de77ae\"],[0.3,\"#f1b6da\"],[0.4,\"#fde0ef\"],[0.5,\"#f7f7f7\"],[0.6,\"#e6f5d0\"],[0.7,\"#b8e186\"],[0.8,\"#7fbc41\"],[0.9,\"#4d9221\"],[1,\"#276419\"]]},\"xaxis\":{\"gridcolor\":\"white\",\"linecolor\":\"white\",\"ticks\":\"\",\"title\":{\"standoff\":15},\"zerolinecolor\":\"white\",\"automargin\":true,\"zerolinewidth\":2},\"yaxis\":{\"gridcolor\":\"white\",\"linecolor\":\"white\",\"ticks\":\"\",\"title\":{\"standoff\":15},\"zerolinecolor\":\"white\",\"automargin\":true,\"zerolinewidth\":2},\"scene\":{\"xaxis\":{\"backgroundcolor\":\"#E5ECF6\",\"gridcolor\":\"white\",\"linecolor\":\"white\",\"showbackground\":true,\"ticks\":\"\",\"zerolinecolor\":\"white\",\"gridwidth\":2},\"yaxis\":{\"backgroundcolor\":\"#E5ECF6\",\"gridcolor\":\"white\",\"linecolor\":\"white\",\"showbackground\":true,\"ticks\":\"\",\"zerolinecolor\":\"white\",\"gridwidth\":2},\"zaxis\":{\"backgroundcolor\":\"#E5ECF6\",\"gridcolor\":\"white\",\"linecolor\":\"white\",\"showbackground\":true,\"ticks\":\"\",\"zerolinecolor\":\"white\",\"gridwidth\":2}},\"shapedefaults\":{\"line\":{\"color\":\"#2a3f5f\"}},\"annotationdefaults\":{\"arrowcolor\":\"#2a3f5f\",\"arrowhead\":0,\"arrowwidth\":1},\"geo\":{\"bgcolor\":\"white\",\"landcolor\":\"#E5ECF6\",\"subunitcolor\":\"white\",\"showland\":true,\"showlakes\":true,\"lakecolor\":\"white\"},\"title\":{\"x\":0.05},\"mapbox\":{\"style\":\"light\"}}},\"xaxis\":{\"anchor\":\"y\",\"domain\":[0.0,1.0],\"title\":{\"text\":\"Sentiment\"},\"categoryorder\":\"array\",\"categoryarray\":[\"Positif\",\"Negatif\",\"Netral\"]},\"yaxis\":{\"anchor\":\"x\",\"domain\":[0.0,1.0],\"title\":{\"text\":\"Total Count\"}},\"legend\":{\"title\":{\"text\":\"Sentiment\"},\"tracegroupgap\":0},\"title\":{\"text\":\"Sentiment Distribution\"},\"barmode\":\"relative\",\"annotations\":[{\"font\":{\"color\":\"black\",\"size\":12},\"showarrow\":false,\"text\":\"147\",\"x\":\"Positif\",\"y\":147.1},{\"font\":{\"color\":\"black\",\"size\":12},\"showarrow\":false,\"text\":\"15\",\"x\":\"Negatif\",\"y\":15.1},{\"font\":{\"color\":\"black\",\"size\":12},\"showarrow\":false,\"text\":\"3\",\"x\":\"Netral\",\"y\":3.1}]},                        {\"responsive\": true}                    ).then(function(){\n",
              "                            \n",
              "var gd = document.getElementById('9247e11f-b386-4ed0-a79a-991af2f200f5');\n",
              "var x = new MutationObserver(function (mutations, observer) {{\n",
              "        var display = window.getComputedStyle(gd).display;\n",
              "        if (!display || display === 'none') {{\n",
              "            console.log([gd, 'removed!']);\n",
              "            Plotly.purge(gd);\n",
              "            observer.disconnect();\n",
              "        }}\n",
              "}});\n",
              "\n",
              "// Listen for the removal of the full notebook cells\n",
              "var notebookContainer = gd.closest('#notebook-container');\n",
              "if (notebookContainer) {{\n",
              "    x.observe(notebookContainer, {childList: true});\n",
              "}}\n",
              "\n",
              "// Listen for the clearing of the current output cell\n",
              "var outputEl = gd.closest('.output');\n",
              "if (outputEl) {{\n",
              "    x.observe(outputEl, {childList: true});\n",
              "}}\n",
              "\n",
              "                        })                };                            </script>        </div>\n",
              "</body>\n",
              "</html>"
            ]
          },
          "metadata": {}
        }
      ]
    },
    {
      "cell_type": "markdown",
      "source": [
        "# **Analisis Emosi Menggunakan NRCLex**"
      ],
      "metadata": {
        "id": "gF6u1O0EwhJB"
      }
    },
    {
      "cell_type": "code",
      "source": [
        "data_emosi = pd.read_csv('/content/drive/MyDrive/Dataset/IMDB_Review_Interstellar_Cleaned.csv')\n",
        "\n",
        "data_emosi.head(20)"
      ],
      "metadata": {
        "id": "5mYew3gHwt-H"
      },
      "execution_count": null,
      "outputs": []
    },
    {
      "cell_type": "code",
      "source": [
        "!pip install NRCLex"
      ],
      "metadata": {
        "id": "-Ojtm5Cgy7Va"
      },
      "execution_count": null,
      "outputs": []
    },
    {
      "cell_type": "code",
      "source": [
        "from nrclex import NRCLex\n",
        "nltk.download('punkt')"
      ],
      "metadata": {
        "colab": {
          "base_uri": "https://localhost:8080/"
        },
        "id": "LragHXSjzMbx",
        "outputId": "92e34d28-0e50-4e10-d828-4edec0a31acd"
      },
      "execution_count": null,
      "outputs": [
        {
          "output_type": "stream",
          "name": "stderr",
          "text": [
            "[nltk_data] Downloading package punkt to /root/nltk_data...\n",
            "[nltk_data]   Unzipping tokenizers/punkt.zip.\n"
          ]
        },
        {
          "output_type": "execute_result",
          "data": {
            "text/plain": [
              "True"
            ]
          },
          "metadata": {},
          "execution_count": 34
        }
      ]
    },
    {
      "cell_type": "code",
      "source": [
        "data_emosi['Emosi'] = data_emosi['Final Review'].apply(lambda x: NRCLex(x).top_emotions)\n",
        "\n",
        "data_emosi.head(60)"
      ],
      "metadata": {
        "id": "cgD7EDtHzTzQ"
      },
      "execution_count": null,
      "outputs": []
    },
    {
      "cell_type": "code",
      "source": [
        "EmotionDf = NRCLex(' '.join(data_emosi['Final Review']))\n",
        "\n",
        "EmotionDF = pd.DataFrame.from_dict(EmotionDf.affect_frequencies, orient='index').sort_values(by=0, ascending=False).reset_index()\n",
        "\n",
        "EmotionDF.columns = ['Emosi', 'Frequency']\n",
        "\n",
        "print(EmotionDF.head(40))"
      ],
      "metadata": {
        "colab": {
          "base_uri": "https://localhost:8080/"
        },
        "id": "Sm0uJsZyz-bv",
        "outputId": "ea883a60-8545-486a-947a-1ddb190b1096"
      },
      "execution_count": null,
      "outputs": [
        {
          "output_type": "stream",
          "name": "stdout",
          "text": [
            "           Emosi  Frequency\n",
            "0       positive   0.233407\n",
            "1   anticipation   0.149283\n",
            "2          trust   0.138258\n",
            "3       negative   0.123594\n",
            "4            joy   0.105513\n",
            "5           fear   0.068578\n",
            "6        sadness   0.065380\n",
            "7       surprise   0.050717\n",
            "8          anger   0.037707\n",
            "9        disgust   0.027563\n",
            "10       anticip   0.000000\n"
          ]
        }
      ]
    },
    {
      "cell_type": "code",
      "source": [
        "import plotly.express as px\n",
        "l\n",
        "fig = px.pie(EmotionDF, values='Frequency', names='Emosi',\n",
        "             title='Emotion Frequency For Reviews',\n",
        "             hover_data=['Emosi'], labels={'Emosi': 'Emotion'})\n",
        "\n",
        "fig.update_traces(textposition='inside', textinfo='percent+label')\n",
        "fig.show()"
      ],
      "metadata": {
        "colab": {
          "base_uri": "https://localhost:8080/",
          "height": 542
        },
        "id": "oHRz7Pmt1X7d",
        "outputId": "32a6c65b-9f34-4314-a337-29c9787ba85d"
      },
      "execution_count": null,
      "outputs": [
        {
          "output_type": "display_data",
          "data": {
            "text/html": [
              "<html>\n",
              "<head><meta charset=\"utf-8\" /></head>\n",
              "<body>\n",
              "    <div>            <script src=\"https://cdnjs.cloudflare.com/ajax/libs/mathjax/2.7.5/MathJax.js?config=TeX-AMS-MML_SVG\"></script><script type=\"text/javascript\">if (window.MathJax && window.MathJax.Hub && window.MathJax.Hub.Config) {window.MathJax.Hub.Config({SVG: {font: \"STIX-Web\"}});}</script>                <script type=\"text/javascript\">window.PlotlyConfig = {MathJaxConfig: 'local'};</script>\n",
              "        <script charset=\"utf-8\" src=\"https://cdn.plot.ly/plotly-2.24.1.min.js\"></script>                <div id=\"c209a7db-9273-4e06-8c19-16b2181a349e\" class=\"plotly-graph-div\" style=\"height:525px; width:100%;\"></div>            <script type=\"text/javascript\">                                    window.PLOTLYENV=window.PLOTLYENV || {};                                    if (document.getElementById(\"c209a7db-9273-4e06-8c19-16b2181a349e\")) {                    Plotly.newPlot(                        \"c209a7db-9273-4e06-8c19-16b2181a349e\",                        [{\"customdata\":[[\"positive\"],[\"anticipation\"],[\"trust\"],[\"negative\"],[\"joy\"],[\"fear\"],[\"sadness\"],[\"surprise\"],[\"anger\"],[\"disgust\"],[\"anticip\"]],\"domain\":{\"x\":[0.0,1.0],\"y\":[0.0,1.0]},\"hovertemplate\":\"Emotion=%{customdata[0]}\\u003cbr\\u003eFrequency=%{value}\\u003cextra\\u003e\\u003c\\u002fextra\\u003e\",\"labels\":[\"positive\",\"anticipation\",\"trust\",\"negative\",\"joy\",\"fear\",\"sadness\",\"surprise\",\"anger\",\"disgust\",\"anticip\"],\"legendgroup\":\"\",\"name\":\"\",\"showlegend\":true,\"values\":[0.23340683572216098,0.14928335170893053,0.138257993384785,0.12359426681367144,0.10551267916207277,0.06857772877618523,0.06538037486218302,0.050716648291069456,0.03770672546857773,0.027563395810363836,0.0],\"type\":\"pie\",\"textinfo\":\"percent+label\",\"textposition\":\"inside\"}],                        {\"template\":{\"data\":{\"histogram2dcontour\":[{\"type\":\"histogram2dcontour\",\"colorbar\":{\"outlinewidth\":0,\"ticks\":\"\"},\"colorscale\":[[0.0,\"#0d0887\"],[0.1111111111111111,\"#46039f\"],[0.2222222222222222,\"#7201a8\"],[0.3333333333333333,\"#9c179e\"],[0.4444444444444444,\"#bd3786\"],[0.5555555555555556,\"#d8576b\"],[0.6666666666666666,\"#ed7953\"],[0.7777777777777778,\"#fb9f3a\"],[0.8888888888888888,\"#fdca26\"],[1.0,\"#f0f921\"]]}],\"choropleth\":[{\"type\":\"choropleth\",\"colorbar\":{\"outlinewidth\":0,\"ticks\":\"\"}}],\"histogram2d\":[{\"type\":\"histogram2d\",\"colorbar\":{\"outlinewidth\":0,\"ticks\":\"\"},\"colorscale\":[[0.0,\"#0d0887\"],[0.1111111111111111,\"#46039f\"],[0.2222222222222222,\"#7201a8\"],[0.3333333333333333,\"#9c179e\"],[0.4444444444444444,\"#bd3786\"],[0.5555555555555556,\"#d8576b\"],[0.6666666666666666,\"#ed7953\"],[0.7777777777777778,\"#fb9f3a\"],[0.8888888888888888,\"#fdca26\"],[1.0,\"#f0f921\"]]}],\"heatmap\":[{\"type\":\"heatmap\",\"colorbar\":{\"outlinewidth\":0,\"ticks\":\"\"},\"colorscale\":[[0.0,\"#0d0887\"],[0.1111111111111111,\"#46039f\"],[0.2222222222222222,\"#7201a8\"],[0.3333333333333333,\"#9c179e\"],[0.4444444444444444,\"#bd3786\"],[0.5555555555555556,\"#d8576b\"],[0.6666666666666666,\"#ed7953\"],[0.7777777777777778,\"#fb9f3a\"],[0.8888888888888888,\"#fdca26\"],[1.0,\"#f0f921\"]]}],\"heatmapgl\":[{\"type\":\"heatmapgl\",\"colorbar\":{\"outlinewidth\":0,\"ticks\":\"\"},\"colorscale\":[[0.0,\"#0d0887\"],[0.1111111111111111,\"#46039f\"],[0.2222222222222222,\"#7201a8\"],[0.3333333333333333,\"#9c179e\"],[0.4444444444444444,\"#bd3786\"],[0.5555555555555556,\"#d8576b\"],[0.6666666666666666,\"#ed7953\"],[0.7777777777777778,\"#fb9f3a\"],[0.8888888888888888,\"#fdca26\"],[1.0,\"#f0f921\"]]}],\"contourcarpet\":[{\"type\":\"contourcarpet\",\"colorbar\":{\"outlinewidth\":0,\"ticks\":\"\"}}],\"contour\":[{\"type\":\"contour\",\"colorbar\":{\"outlinewidth\":0,\"ticks\":\"\"},\"colorscale\":[[0.0,\"#0d0887\"],[0.1111111111111111,\"#46039f\"],[0.2222222222222222,\"#7201a8\"],[0.3333333333333333,\"#9c179e\"],[0.4444444444444444,\"#bd3786\"],[0.5555555555555556,\"#d8576b\"],[0.6666666666666666,\"#ed7953\"],[0.7777777777777778,\"#fb9f3a\"],[0.8888888888888888,\"#fdca26\"],[1.0,\"#f0f921\"]]}],\"surface\":[{\"type\":\"surface\",\"colorbar\":{\"outlinewidth\":0,\"ticks\":\"\"},\"colorscale\":[[0.0,\"#0d0887\"],[0.1111111111111111,\"#46039f\"],[0.2222222222222222,\"#7201a8\"],[0.3333333333333333,\"#9c179e\"],[0.4444444444444444,\"#bd3786\"],[0.5555555555555556,\"#d8576b\"],[0.6666666666666666,\"#ed7953\"],[0.7777777777777778,\"#fb9f3a\"],[0.8888888888888888,\"#fdca26\"],[1.0,\"#f0f921\"]]}],\"mesh3d\":[{\"type\":\"mesh3d\",\"colorbar\":{\"outlinewidth\":0,\"ticks\":\"\"}}],\"scatter\":[{\"fillpattern\":{\"fillmode\":\"overlay\",\"size\":10,\"solidity\":0.2},\"type\":\"scatter\"}],\"parcoords\":[{\"type\":\"parcoords\",\"line\":{\"colorbar\":{\"outlinewidth\":0,\"ticks\":\"\"}}}],\"scatterpolargl\":[{\"type\":\"scatterpolargl\",\"marker\":{\"colorbar\":{\"outlinewidth\":0,\"ticks\":\"\"}}}],\"bar\":[{\"error_x\":{\"color\":\"#2a3f5f\"},\"error_y\":{\"color\":\"#2a3f5f\"},\"marker\":{\"line\":{\"color\":\"#E5ECF6\",\"width\":0.5},\"pattern\":{\"fillmode\":\"overlay\",\"size\":10,\"solidity\":0.2}},\"type\":\"bar\"}],\"scattergeo\":[{\"type\":\"scattergeo\",\"marker\":{\"colorbar\":{\"outlinewidth\":0,\"ticks\":\"\"}}}],\"scatterpolar\":[{\"type\":\"scatterpolar\",\"marker\":{\"colorbar\":{\"outlinewidth\":0,\"ticks\":\"\"}}}],\"histogram\":[{\"marker\":{\"pattern\":{\"fillmode\":\"overlay\",\"size\":10,\"solidity\":0.2}},\"type\":\"histogram\"}],\"scattergl\":[{\"type\":\"scattergl\",\"marker\":{\"colorbar\":{\"outlinewidth\":0,\"ticks\":\"\"}}}],\"scatter3d\":[{\"type\":\"scatter3d\",\"line\":{\"colorbar\":{\"outlinewidth\":0,\"ticks\":\"\"}},\"marker\":{\"colorbar\":{\"outlinewidth\":0,\"ticks\":\"\"}}}],\"scattermapbox\":[{\"type\":\"scattermapbox\",\"marker\":{\"colorbar\":{\"outlinewidth\":0,\"ticks\":\"\"}}}],\"scatterternary\":[{\"type\":\"scatterternary\",\"marker\":{\"colorbar\":{\"outlinewidth\":0,\"ticks\":\"\"}}}],\"scattercarpet\":[{\"type\":\"scattercarpet\",\"marker\":{\"colorbar\":{\"outlinewidth\":0,\"ticks\":\"\"}}}],\"carpet\":[{\"aaxis\":{\"endlinecolor\":\"#2a3f5f\",\"gridcolor\":\"white\",\"linecolor\":\"white\",\"minorgridcolor\":\"white\",\"startlinecolor\":\"#2a3f5f\"},\"baxis\":{\"endlinecolor\":\"#2a3f5f\",\"gridcolor\":\"white\",\"linecolor\":\"white\",\"minorgridcolor\":\"white\",\"startlinecolor\":\"#2a3f5f\"},\"type\":\"carpet\"}],\"table\":[{\"cells\":{\"fill\":{\"color\":\"#EBF0F8\"},\"line\":{\"color\":\"white\"}},\"header\":{\"fill\":{\"color\":\"#C8D4E3\"},\"line\":{\"color\":\"white\"}},\"type\":\"table\"}],\"barpolar\":[{\"marker\":{\"line\":{\"color\":\"#E5ECF6\",\"width\":0.5},\"pattern\":{\"fillmode\":\"overlay\",\"size\":10,\"solidity\":0.2}},\"type\":\"barpolar\"}],\"pie\":[{\"automargin\":true,\"type\":\"pie\"}]},\"layout\":{\"autotypenumbers\":\"strict\",\"colorway\":[\"#636efa\",\"#EF553B\",\"#00cc96\",\"#ab63fa\",\"#FFA15A\",\"#19d3f3\",\"#FF6692\",\"#B6E880\",\"#FF97FF\",\"#FECB52\"],\"font\":{\"color\":\"#2a3f5f\"},\"hovermode\":\"closest\",\"hoverlabel\":{\"align\":\"left\"},\"paper_bgcolor\":\"white\",\"plot_bgcolor\":\"#E5ECF6\",\"polar\":{\"bgcolor\":\"#E5ECF6\",\"angularaxis\":{\"gridcolor\":\"white\",\"linecolor\":\"white\",\"ticks\":\"\"},\"radialaxis\":{\"gridcolor\":\"white\",\"linecolor\":\"white\",\"ticks\":\"\"}},\"ternary\":{\"bgcolor\":\"#E5ECF6\",\"aaxis\":{\"gridcolor\":\"white\",\"linecolor\":\"white\",\"ticks\":\"\"},\"baxis\":{\"gridcolor\":\"white\",\"linecolor\":\"white\",\"ticks\":\"\"},\"caxis\":{\"gridcolor\":\"white\",\"linecolor\":\"white\",\"ticks\":\"\"}},\"coloraxis\":{\"colorbar\":{\"outlinewidth\":0,\"ticks\":\"\"}},\"colorscale\":{\"sequential\":[[0.0,\"#0d0887\"],[0.1111111111111111,\"#46039f\"],[0.2222222222222222,\"#7201a8\"],[0.3333333333333333,\"#9c179e\"],[0.4444444444444444,\"#bd3786\"],[0.5555555555555556,\"#d8576b\"],[0.6666666666666666,\"#ed7953\"],[0.7777777777777778,\"#fb9f3a\"],[0.8888888888888888,\"#fdca26\"],[1.0,\"#f0f921\"]],\"sequentialminus\":[[0.0,\"#0d0887\"],[0.1111111111111111,\"#46039f\"],[0.2222222222222222,\"#7201a8\"],[0.3333333333333333,\"#9c179e\"],[0.4444444444444444,\"#bd3786\"],[0.5555555555555556,\"#d8576b\"],[0.6666666666666666,\"#ed7953\"],[0.7777777777777778,\"#fb9f3a\"],[0.8888888888888888,\"#fdca26\"],[1.0,\"#f0f921\"]],\"diverging\":[[0,\"#8e0152\"],[0.1,\"#c51b7d\"],[0.2,\"#de77ae\"],[0.3,\"#f1b6da\"],[0.4,\"#fde0ef\"],[0.5,\"#f7f7f7\"],[0.6,\"#e6f5d0\"],[0.7,\"#b8e186\"],[0.8,\"#7fbc41\"],[0.9,\"#4d9221\"],[1,\"#276419\"]]},\"xaxis\":{\"gridcolor\":\"white\",\"linecolor\":\"white\",\"ticks\":\"\",\"title\":{\"standoff\":15},\"zerolinecolor\":\"white\",\"automargin\":true,\"zerolinewidth\":2},\"yaxis\":{\"gridcolor\":\"white\",\"linecolor\":\"white\",\"ticks\":\"\",\"title\":{\"standoff\":15},\"zerolinecolor\":\"white\",\"automargin\":true,\"zerolinewidth\":2},\"scene\":{\"xaxis\":{\"backgroundcolor\":\"#E5ECF6\",\"gridcolor\":\"white\",\"linecolor\":\"white\",\"showbackground\":true,\"ticks\":\"\",\"zerolinecolor\":\"white\",\"gridwidth\":2},\"yaxis\":{\"backgroundcolor\":\"#E5ECF6\",\"gridcolor\":\"white\",\"linecolor\":\"white\",\"showbackground\":true,\"ticks\":\"\",\"zerolinecolor\":\"white\",\"gridwidth\":2},\"zaxis\":{\"backgroundcolor\":\"#E5ECF6\",\"gridcolor\":\"white\",\"linecolor\":\"white\",\"showbackground\":true,\"ticks\":\"\",\"zerolinecolor\":\"white\",\"gridwidth\":2}},\"shapedefaults\":{\"line\":{\"color\":\"#2a3f5f\"}},\"annotationdefaults\":{\"arrowcolor\":\"#2a3f5f\",\"arrowhead\":0,\"arrowwidth\":1},\"geo\":{\"bgcolor\":\"white\",\"landcolor\":\"#E5ECF6\",\"subunitcolor\":\"white\",\"showland\":true,\"showlakes\":true,\"lakecolor\":\"white\"},\"title\":{\"x\":0.05},\"mapbox\":{\"style\":\"light\"}}},\"legend\":{\"tracegroupgap\":0},\"title\":{\"text\":\"Emotion Frequency For Reviews\"}},                        {\"responsive\": true}                    ).then(function(){\n",
              "                            \n",
              "var gd = document.getElementById('c209a7db-9273-4e06-8c19-16b2181a349e');\n",
              "var x = new MutationObserver(function (mutations, observer) {{\n",
              "        var display = window.getComputedStyle(gd).display;\n",
              "        if (!display || display === 'none') {{\n",
              "            console.log([gd, 'removed!']);\n",
              "            Plotly.purge(gd);\n",
              "            observer.disconnect();\n",
              "        }}\n",
              "}});\n",
              "\n",
              "// Listen for the removal of the full notebook cells\n",
              "var notebookContainer = gd.closest('#notebook-container');\n",
              "if (notebookContainer) {{\n",
              "    x.observe(notebookContainer, {childList: true});\n",
              "}}\n",
              "\n",
              "// Listen for the clearing of the current output cell\n",
              "var outputEl = gd.closest('.output');\n",
              "if (outputEl) {{\n",
              "    x.observe(outputEl, {childList: true});\n",
              "}}\n",
              "\n",
              "                        })                };                            </script>        </div>\n",
              "</body>\n",
              "</html>"
            ]
          },
          "metadata": {}
        }
      ]
    },
    {
      "cell_type": "code",
      "source": [
        "fig = px.bar(EmotionDF, x='Emosi', y='Frequency',\n",
        "             color='Emosi',\n",
        "             title='Emotion Frequency For Reviews')\n",
        "\n",
        "fig.update_traces(texttemplate='%{y:.2f}', textposition='outside')\n",
        "\n",
        "fig.update_xaxes(title='Emosi')\n",
        "fig.update_yaxes(title='Frequency')\n",
        "\n",
        "fig.show()"
      ],
      "metadata": {
        "colab": {
          "base_uri": "https://localhost:8080/",
          "height": 542
        },
        "id": "1QZuOp6t2P1n",
        "outputId": "0b4952b5-a07b-40f2-a413-39fb0faec13a"
      },
      "execution_count": null,
      "outputs": [
        {
          "output_type": "display_data",
          "data": {
            "text/html": [
              "<html>\n",
              "<head><meta charset=\"utf-8\" /></head>\n",
              "<body>\n",
              "    <div>            <script src=\"https://cdnjs.cloudflare.com/ajax/libs/mathjax/2.7.5/MathJax.js?config=TeX-AMS-MML_SVG\"></script><script type=\"text/javascript\">if (window.MathJax && window.MathJax.Hub && window.MathJax.Hub.Config) {window.MathJax.Hub.Config({SVG: {font: \"STIX-Web\"}});}</script>                <script type=\"text/javascript\">window.PlotlyConfig = {MathJaxConfig: 'local'};</script>\n",
              "        <script charset=\"utf-8\" src=\"https://cdn.plot.ly/plotly-2.24.1.min.js\"></script>                <div id=\"224e82f3-4247-4cc2-b797-9b56883523a0\" class=\"plotly-graph-div\" style=\"height:525px; width:100%;\"></div>            <script type=\"text/javascript\">                                    window.PLOTLYENV=window.PLOTLYENV || {};                                    if (document.getElementById(\"224e82f3-4247-4cc2-b797-9b56883523a0\")) {                    Plotly.newPlot(                        \"224e82f3-4247-4cc2-b797-9b56883523a0\",                        [{\"alignmentgroup\":\"True\",\"hovertemplate\":\"Emosi=%{x}\\u003cbr\\u003eFrequency=%{y}\\u003cextra\\u003e\\u003c\\u002fextra\\u003e\",\"legendgroup\":\"positive\",\"marker\":{\"color\":\"#636efa\",\"pattern\":{\"shape\":\"\"}},\"name\":\"positive\",\"offsetgroup\":\"positive\",\"orientation\":\"v\",\"showlegend\":true,\"textposition\":\"outside\",\"x\":[\"positive\"],\"xaxis\":\"x\",\"y\":[0.23340683572216098],\"yaxis\":\"y\",\"type\":\"bar\",\"texttemplate\":\"%{y:.2f}\"},{\"alignmentgroup\":\"True\",\"hovertemplate\":\"Emosi=%{x}\\u003cbr\\u003eFrequency=%{y}\\u003cextra\\u003e\\u003c\\u002fextra\\u003e\",\"legendgroup\":\"anticipation\",\"marker\":{\"color\":\"#EF553B\",\"pattern\":{\"shape\":\"\"}},\"name\":\"anticipation\",\"offsetgroup\":\"anticipation\",\"orientation\":\"v\",\"showlegend\":true,\"textposition\":\"outside\",\"x\":[\"anticipation\"],\"xaxis\":\"x\",\"y\":[0.14928335170893053],\"yaxis\":\"y\",\"type\":\"bar\",\"texttemplate\":\"%{y:.2f}\"},{\"alignmentgroup\":\"True\",\"hovertemplate\":\"Emosi=%{x}\\u003cbr\\u003eFrequency=%{y}\\u003cextra\\u003e\\u003c\\u002fextra\\u003e\",\"legendgroup\":\"trust\",\"marker\":{\"color\":\"#00cc96\",\"pattern\":{\"shape\":\"\"}},\"name\":\"trust\",\"offsetgroup\":\"trust\",\"orientation\":\"v\",\"showlegend\":true,\"textposition\":\"outside\",\"x\":[\"trust\"],\"xaxis\":\"x\",\"y\":[0.138257993384785],\"yaxis\":\"y\",\"type\":\"bar\",\"texttemplate\":\"%{y:.2f}\"},{\"alignmentgroup\":\"True\",\"hovertemplate\":\"Emosi=%{x}\\u003cbr\\u003eFrequency=%{y}\\u003cextra\\u003e\\u003c\\u002fextra\\u003e\",\"legendgroup\":\"negative\",\"marker\":{\"color\":\"#ab63fa\",\"pattern\":{\"shape\":\"\"}},\"name\":\"negative\",\"offsetgroup\":\"negative\",\"orientation\":\"v\",\"showlegend\":true,\"textposition\":\"outside\",\"x\":[\"negative\"],\"xaxis\":\"x\",\"y\":[0.12359426681367144],\"yaxis\":\"y\",\"type\":\"bar\",\"texttemplate\":\"%{y:.2f}\"},{\"alignmentgroup\":\"True\",\"hovertemplate\":\"Emosi=%{x}\\u003cbr\\u003eFrequency=%{y}\\u003cextra\\u003e\\u003c\\u002fextra\\u003e\",\"legendgroup\":\"joy\",\"marker\":{\"color\":\"#FFA15A\",\"pattern\":{\"shape\":\"\"}},\"name\":\"joy\",\"offsetgroup\":\"joy\",\"orientation\":\"v\",\"showlegend\":true,\"textposition\":\"outside\",\"x\":[\"joy\"],\"xaxis\":\"x\",\"y\":[0.10551267916207277],\"yaxis\":\"y\",\"type\":\"bar\",\"texttemplate\":\"%{y:.2f}\"},{\"alignmentgroup\":\"True\",\"hovertemplate\":\"Emosi=%{x}\\u003cbr\\u003eFrequency=%{y}\\u003cextra\\u003e\\u003c\\u002fextra\\u003e\",\"legendgroup\":\"fear\",\"marker\":{\"color\":\"#19d3f3\",\"pattern\":{\"shape\":\"\"}},\"name\":\"fear\",\"offsetgroup\":\"fear\",\"orientation\":\"v\",\"showlegend\":true,\"textposition\":\"outside\",\"x\":[\"fear\"],\"xaxis\":\"x\",\"y\":[0.06857772877618523],\"yaxis\":\"y\",\"type\":\"bar\",\"texttemplate\":\"%{y:.2f}\"},{\"alignmentgroup\":\"True\",\"hovertemplate\":\"Emosi=%{x}\\u003cbr\\u003eFrequency=%{y}\\u003cextra\\u003e\\u003c\\u002fextra\\u003e\",\"legendgroup\":\"sadness\",\"marker\":{\"color\":\"#FF6692\",\"pattern\":{\"shape\":\"\"}},\"name\":\"sadness\",\"offsetgroup\":\"sadness\",\"orientation\":\"v\",\"showlegend\":true,\"textposition\":\"outside\",\"x\":[\"sadness\"],\"xaxis\":\"x\",\"y\":[0.06538037486218302],\"yaxis\":\"y\",\"type\":\"bar\",\"texttemplate\":\"%{y:.2f}\"},{\"alignmentgroup\":\"True\",\"hovertemplate\":\"Emosi=%{x}\\u003cbr\\u003eFrequency=%{y}\\u003cextra\\u003e\\u003c\\u002fextra\\u003e\",\"legendgroup\":\"surprise\",\"marker\":{\"color\":\"#B6E880\",\"pattern\":{\"shape\":\"\"}},\"name\":\"surprise\",\"offsetgroup\":\"surprise\",\"orientation\":\"v\",\"showlegend\":true,\"textposition\":\"outside\",\"x\":[\"surprise\"],\"xaxis\":\"x\",\"y\":[0.050716648291069456],\"yaxis\":\"y\",\"type\":\"bar\",\"texttemplate\":\"%{y:.2f}\"},{\"alignmentgroup\":\"True\",\"hovertemplate\":\"Emosi=%{x}\\u003cbr\\u003eFrequency=%{y}\\u003cextra\\u003e\\u003c\\u002fextra\\u003e\",\"legendgroup\":\"anger\",\"marker\":{\"color\":\"#FF97FF\",\"pattern\":{\"shape\":\"\"}},\"name\":\"anger\",\"offsetgroup\":\"anger\",\"orientation\":\"v\",\"showlegend\":true,\"textposition\":\"outside\",\"x\":[\"anger\"],\"xaxis\":\"x\",\"y\":[0.03770672546857773],\"yaxis\":\"y\",\"type\":\"bar\",\"texttemplate\":\"%{y:.2f}\"},{\"alignmentgroup\":\"True\",\"hovertemplate\":\"Emosi=%{x}\\u003cbr\\u003eFrequency=%{y}\\u003cextra\\u003e\\u003c\\u002fextra\\u003e\",\"legendgroup\":\"disgust\",\"marker\":{\"color\":\"#FECB52\",\"pattern\":{\"shape\":\"\"}},\"name\":\"disgust\",\"offsetgroup\":\"disgust\",\"orientation\":\"v\",\"showlegend\":true,\"textposition\":\"outside\",\"x\":[\"disgust\"],\"xaxis\":\"x\",\"y\":[0.027563395810363836],\"yaxis\":\"y\",\"type\":\"bar\",\"texttemplate\":\"%{y:.2f}\"},{\"alignmentgroup\":\"True\",\"hovertemplate\":\"Emosi=%{x}\\u003cbr\\u003eFrequency=%{y}\\u003cextra\\u003e\\u003c\\u002fextra\\u003e\",\"legendgroup\":\"anticip\",\"marker\":{\"color\":\"#636efa\",\"pattern\":{\"shape\":\"\"}},\"name\":\"anticip\",\"offsetgroup\":\"anticip\",\"orientation\":\"v\",\"showlegend\":true,\"textposition\":\"outside\",\"x\":[\"anticip\"],\"xaxis\":\"x\",\"y\":[0.0],\"yaxis\":\"y\",\"type\":\"bar\",\"texttemplate\":\"%{y:.2f}\"}],                        {\"template\":{\"data\":{\"histogram2dcontour\":[{\"type\":\"histogram2dcontour\",\"colorbar\":{\"outlinewidth\":0,\"ticks\":\"\"},\"colorscale\":[[0.0,\"#0d0887\"],[0.1111111111111111,\"#46039f\"],[0.2222222222222222,\"#7201a8\"],[0.3333333333333333,\"#9c179e\"],[0.4444444444444444,\"#bd3786\"],[0.5555555555555556,\"#d8576b\"],[0.6666666666666666,\"#ed7953\"],[0.7777777777777778,\"#fb9f3a\"],[0.8888888888888888,\"#fdca26\"],[1.0,\"#f0f921\"]]}],\"choropleth\":[{\"type\":\"choropleth\",\"colorbar\":{\"outlinewidth\":0,\"ticks\":\"\"}}],\"histogram2d\":[{\"type\":\"histogram2d\",\"colorbar\":{\"outlinewidth\":0,\"ticks\":\"\"},\"colorscale\":[[0.0,\"#0d0887\"],[0.1111111111111111,\"#46039f\"],[0.2222222222222222,\"#7201a8\"],[0.3333333333333333,\"#9c179e\"],[0.4444444444444444,\"#bd3786\"],[0.5555555555555556,\"#d8576b\"],[0.6666666666666666,\"#ed7953\"],[0.7777777777777778,\"#fb9f3a\"],[0.8888888888888888,\"#fdca26\"],[1.0,\"#f0f921\"]]}],\"heatmap\":[{\"type\":\"heatmap\",\"colorbar\":{\"outlinewidth\":0,\"ticks\":\"\"},\"colorscale\":[[0.0,\"#0d0887\"],[0.1111111111111111,\"#46039f\"],[0.2222222222222222,\"#7201a8\"],[0.3333333333333333,\"#9c179e\"],[0.4444444444444444,\"#bd3786\"],[0.5555555555555556,\"#d8576b\"],[0.6666666666666666,\"#ed7953\"],[0.7777777777777778,\"#fb9f3a\"],[0.8888888888888888,\"#fdca26\"],[1.0,\"#f0f921\"]]}],\"heatmapgl\":[{\"type\":\"heatmapgl\",\"colorbar\":{\"outlinewidth\":0,\"ticks\":\"\"},\"colorscale\":[[0.0,\"#0d0887\"],[0.1111111111111111,\"#46039f\"],[0.2222222222222222,\"#7201a8\"],[0.3333333333333333,\"#9c179e\"],[0.4444444444444444,\"#bd3786\"],[0.5555555555555556,\"#d8576b\"],[0.6666666666666666,\"#ed7953\"],[0.7777777777777778,\"#fb9f3a\"],[0.8888888888888888,\"#fdca26\"],[1.0,\"#f0f921\"]]}],\"contourcarpet\":[{\"type\":\"contourcarpet\",\"colorbar\":{\"outlinewidth\":0,\"ticks\":\"\"}}],\"contour\":[{\"type\":\"contour\",\"colorbar\":{\"outlinewidth\":0,\"ticks\":\"\"},\"colorscale\":[[0.0,\"#0d0887\"],[0.1111111111111111,\"#46039f\"],[0.2222222222222222,\"#7201a8\"],[0.3333333333333333,\"#9c179e\"],[0.4444444444444444,\"#bd3786\"],[0.5555555555555556,\"#d8576b\"],[0.6666666666666666,\"#ed7953\"],[0.7777777777777778,\"#fb9f3a\"],[0.8888888888888888,\"#fdca26\"],[1.0,\"#f0f921\"]]}],\"surface\":[{\"type\":\"surface\",\"colorbar\":{\"outlinewidth\":0,\"ticks\":\"\"},\"colorscale\":[[0.0,\"#0d0887\"],[0.1111111111111111,\"#46039f\"],[0.2222222222222222,\"#7201a8\"],[0.3333333333333333,\"#9c179e\"],[0.4444444444444444,\"#bd3786\"],[0.5555555555555556,\"#d8576b\"],[0.6666666666666666,\"#ed7953\"],[0.7777777777777778,\"#fb9f3a\"],[0.8888888888888888,\"#fdca26\"],[1.0,\"#f0f921\"]]}],\"mesh3d\":[{\"type\":\"mesh3d\",\"colorbar\":{\"outlinewidth\":0,\"ticks\":\"\"}}],\"scatter\":[{\"fillpattern\":{\"fillmode\":\"overlay\",\"size\":10,\"solidity\":0.2},\"type\":\"scatter\"}],\"parcoords\":[{\"type\":\"parcoords\",\"line\":{\"colorbar\":{\"outlinewidth\":0,\"ticks\":\"\"}}}],\"scatterpolargl\":[{\"type\":\"scatterpolargl\",\"marker\":{\"colorbar\":{\"outlinewidth\":0,\"ticks\":\"\"}}}],\"bar\":[{\"error_x\":{\"color\":\"#2a3f5f\"},\"error_y\":{\"color\":\"#2a3f5f\"},\"marker\":{\"line\":{\"color\":\"#E5ECF6\",\"width\":0.5},\"pattern\":{\"fillmode\":\"overlay\",\"size\":10,\"solidity\":0.2}},\"type\":\"bar\"}],\"scattergeo\":[{\"type\":\"scattergeo\",\"marker\":{\"colorbar\":{\"outlinewidth\":0,\"ticks\":\"\"}}}],\"scatterpolar\":[{\"type\":\"scatterpolar\",\"marker\":{\"colorbar\":{\"outlinewidth\":0,\"ticks\":\"\"}}}],\"histogram\":[{\"marker\":{\"pattern\":{\"fillmode\":\"overlay\",\"size\":10,\"solidity\":0.2}},\"type\":\"histogram\"}],\"scattergl\":[{\"type\":\"scattergl\",\"marker\":{\"colorbar\":{\"outlinewidth\":0,\"ticks\":\"\"}}}],\"scatter3d\":[{\"type\":\"scatter3d\",\"line\":{\"colorbar\":{\"outlinewidth\":0,\"ticks\":\"\"}},\"marker\":{\"colorbar\":{\"outlinewidth\":0,\"ticks\":\"\"}}}],\"scattermapbox\":[{\"type\":\"scattermapbox\",\"marker\":{\"colorbar\":{\"outlinewidth\":0,\"ticks\":\"\"}}}],\"scatterternary\":[{\"type\":\"scatterternary\",\"marker\":{\"colorbar\":{\"outlinewidth\":0,\"ticks\":\"\"}}}],\"scattercarpet\":[{\"type\":\"scattercarpet\",\"marker\":{\"colorbar\":{\"outlinewidth\":0,\"ticks\":\"\"}}}],\"carpet\":[{\"aaxis\":{\"endlinecolor\":\"#2a3f5f\",\"gridcolor\":\"white\",\"linecolor\":\"white\",\"minorgridcolor\":\"white\",\"startlinecolor\":\"#2a3f5f\"},\"baxis\":{\"endlinecolor\":\"#2a3f5f\",\"gridcolor\":\"white\",\"linecolor\":\"white\",\"minorgridcolor\":\"white\",\"startlinecolor\":\"#2a3f5f\"},\"type\":\"carpet\"}],\"table\":[{\"cells\":{\"fill\":{\"color\":\"#EBF0F8\"},\"line\":{\"color\":\"white\"}},\"header\":{\"fill\":{\"color\":\"#C8D4E3\"},\"line\":{\"color\":\"white\"}},\"type\":\"table\"}],\"barpolar\":[{\"marker\":{\"line\":{\"color\":\"#E5ECF6\",\"width\":0.5},\"pattern\":{\"fillmode\":\"overlay\",\"size\":10,\"solidity\":0.2}},\"type\":\"barpolar\"}],\"pie\":[{\"automargin\":true,\"type\":\"pie\"}]},\"layout\":{\"autotypenumbers\":\"strict\",\"colorway\":[\"#636efa\",\"#EF553B\",\"#00cc96\",\"#ab63fa\",\"#FFA15A\",\"#19d3f3\",\"#FF6692\",\"#B6E880\",\"#FF97FF\",\"#FECB52\"],\"font\":{\"color\":\"#2a3f5f\"},\"hovermode\":\"closest\",\"hoverlabel\":{\"align\":\"left\"},\"paper_bgcolor\":\"white\",\"plot_bgcolor\":\"#E5ECF6\",\"polar\":{\"bgcolor\":\"#E5ECF6\",\"angularaxis\":{\"gridcolor\":\"white\",\"linecolor\":\"white\",\"ticks\":\"\"},\"radialaxis\":{\"gridcolor\":\"white\",\"linecolor\":\"white\",\"ticks\":\"\"}},\"ternary\":{\"bgcolor\":\"#E5ECF6\",\"aaxis\":{\"gridcolor\":\"white\",\"linecolor\":\"white\",\"ticks\":\"\"},\"baxis\":{\"gridcolor\":\"white\",\"linecolor\":\"white\",\"ticks\":\"\"},\"caxis\":{\"gridcolor\":\"white\",\"linecolor\":\"white\",\"ticks\":\"\"}},\"coloraxis\":{\"colorbar\":{\"outlinewidth\":0,\"ticks\":\"\"}},\"colorscale\":{\"sequential\":[[0.0,\"#0d0887\"],[0.1111111111111111,\"#46039f\"],[0.2222222222222222,\"#7201a8\"],[0.3333333333333333,\"#9c179e\"],[0.4444444444444444,\"#bd3786\"],[0.5555555555555556,\"#d8576b\"],[0.6666666666666666,\"#ed7953\"],[0.7777777777777778,\"#fb9f3a\"],[0.8888888888888888,\"#fdca26\"],[1.0,\"#f0f921\"]],\"sequentialminus\":[[0.0,\"#0d0887\"],[0.1111111111111111,\"#46039f\"],[0.2222222222222222,\"#7201a8\"],[0.3333333333333333,\"#9c179e\"],[0.4444444444444444,\"#bd3786\"],[0.5555555555555556,\"#d8576b\"],[0.6666666666666666,\"#ed7953\"],[0.7777777777777778,\"#fb9f3a\"],[0.8888888888888888,\"#fdca26\"],[1.0,\"#f0f921\"]],\"diverging\":[[0,\"#8e0152\"],[0.1,\"#c51b7d\"],[0.2,\"#de77ae\"],[0.3,\"#f1b6da\"],[0.4,\"#fde0ef\"],[0.5,\"#f7f7f7\"],[0.6,\"#e6f5d0\"],[0.7,\"#b8e186\"],[0.8,\"#7fbc41\"],[0.9,\"#4d9221\"],[1,\"#276419\"]]},\"xaxis\":{\"gridcolor\":\"white\",\"linecolor\":\"white\",\"ticks\":\"\",\"title\":{\"standoff\":15},\"zerolinecolor\":\"white\",\"automargin\":true,\"zerolinewidth\":2},\"yaxis\":{\"gridcolor\":\"white\",\"linecolor\":\"white\",\"ticks\":\"\",\"title\":{\"standoff\":15},\"zerolinecolor\":\"white\",\"automargin\":true,\"zerolinewidth\":2},\"scene\":{\"xaxis\":{\"backgroundcolor\":\"#E5ECF6\",\"gridcolor\":\"white\",\"linecolor\":\"white\",\"showbackground\":true,\"ticks\":\"\",\"zerolinecolor\":\"white\",\"gridwidth\":2},\"yaxis\":{\"backgroundcolor\":\"#E5ECF6\",\"gridcolor\":\"white\",\"linecolor\":\"white\",\"showbackground\":true,\"ticks\":\"\",\"zerolinecolor\":\"white\",\"gridwidth\":2},\"zaxis\":{\"backgroundcolor\":\"#E5ECF6\",\"gridcolor\":\"white\",\"linecolor\":\"white\",\"showbackground\":true,\"ticks\":\"\",\"zerolinecolor\":\"white\",\"gridwidth\":2}},\"shapedefaults\":{\"line\":{\"color\":\"#2a3f5f\"}},\"annotationdefaults\":{\"arrowcolor\":\"#2a3f5f\",\"arrowhead\":0,\"arrowwidth\":1},\"geo\":{\"bgcolor\":\"white\",\"landcolor\":\"#E5ECF6\",\"subunitcolor\":\"white\",\"showland\":true,\"showlakes\":true,\"lakecolor\":\"white\"},\"title\":{\"x\":0.05},\"mapbox\":{\"style\":\"light\"}}},\"xaxis\":{\"anchor\":\"y\",\"domain\":[0.0,1.0],\"title\":{\"text\":\"Emosi\"},\"categoryorder\":\"array\",\"categoryarray\":[\"positive\",\"anticipation\",\"trust\",\"negative\",\"joy\",\"fear\",\"sadness\",\"surprise\",\"anger\",\"disgust\",\"anticip\"]},\"yaxis\":{\"anchor\":\"x\",\"domain\":[0.0,1.0],\"title\":{\"text\":\"Frequency\"}},\"legend\":{\"title\":{\"text\":\"Emosi\"},\"tracegroupgap\":0},\"title\":{\"text\":\"Emotion Frequency For Reviews\"},\"barmode\":\"relative\"},                        {\"responsive\": true}                    ).then(function(){\n",
              "                            \n",
              "var gd = document.getElementById('224e82f3-4247-4cc2-b797-9b56883523a0');\n",
              "var x = new MutationObserver(function (mutations, observer) {{\n",
              "        var display = window.getComputedStyle(gd).display;\n",
              "        if (!display || display === 'none') {{\n",
              "            console.log([gd, 'removed!']);\n",
              "            Plotly.purge(gd);\n",
              "            observer.disconnect();\n",
              "        }}\n",
              "}});\n",
              "\n",
              "// Listen for the removal of the full notebook cells\n",
              "var notebookContainer = gd.closest('#notebook-container');\n",
              "if (notebookContainer) {{\n",
              "    x.observe(notebookContainer, {childList: true});\n",
              "}}\n",
              "\n",
              "// Listen for the clearing of the current output cell\n",
              "var outputEl = gd.closest('.output');\n",
              "if (outputEl) {{\n",
              "    x.observe(outputEl, {childList: true});\n",
              "}}\n",
              "\n",
              "                        })                };                            </script>        </div>\n",
              "</body>\n",
              "</html>"
            ]
          },
          "metadata": {}
        }
      ]
    }
  ]
}